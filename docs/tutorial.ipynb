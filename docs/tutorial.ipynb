{
 "cells": [
  {
   "cell_type": "markdown",
   "metadata": {},
   "source": [
    "# InterLex Test Client init"
   ]
  },
  {
   "cell_type": "code",
   "execution_count": 1,
   "metadata": {},
   "outputs": [
    {
     "data": {
      "text/plain": [
       "'https://test3.scicrunch.org/api/1'"
      ]
     },
     "execution_count": 1,
     "metadata": {},
     "output_type": "execute_result"
    }
   ],
   "source": [
    "from ontquery.interlex import interlex_client\n",
    "ilx_cli = interlex_client('test3.scicrunch.org')\n",
    "ilx_cli.apiEndpoint"
   ]
  },
  {
   "cell_type": "markdown",
   "metadata": {},
   "source": [
    "# InterLex Production Client init. Please test on Test3 server first!"
   ]
  },
  {
   "cell_type": "code",
   "execution_count": 2,
   "metadata": {},
   "outputs": [
    {
     "data": {
      "text/plain": [
       "'https://scicrunch.org/api/1'"
      ]
     },
     "execution_count": 2,
     "metadata": {},
     "output_type": "execute_result"
    }
   ],
   "source": [
    "ilx_cli_production = interlex_client('scicrunch.org')\n",
    "ilx_cli_production.apiEndpoint"
   ]
  },
  {
   "cell_type": "markdown",
   "metadata": {},
   "source": [
    "# Check Your User Infro"
   ]
  },
  {
   "cell_type": "code",
   "execution_count": 3,
   "metadata": {},
   "outputs": [
    {
     "data": {
      "text/plain": [
       "{'logged_in': True,\n",
       " 'first_name': 'troy',\n",
       " 'last_name': 'sincomb',\n",
       " 'role': 2,\n",
       " 'communities': [{'portalName': 'odc-sci', 'cid': 97, 'level': 1},\n",
       "  {'portalName': 'SPARC', 'cid': 134, 'level': 1}],\n",
       " 'labs': [{'cid': 97, 'id': 3, 'name': 'SciCrunch @ UCSD'},\n",
       "  {'cid': 97, 'id': 76, 'name': 'tmsincomb-lab'}],\n",
       " 'datasets': [],\n",
       " 'id': 34142}"
      ]
     },
     "execution_count": 3,
     "metadata": {},
     "output_type": "execute_result"
    }
   ],
   "source": [
    "ilx_cli.ilx_cli._get('user/info').json()['data']"
   ]
  },
  {
   "cell_type": "markdown",
   "metadata": {},
   "source": [
    "# Query Exact Label & Syonym Match"
   ]
  },
  {
   "cell_type": "code",
   "execution_count": 4,
   "metadata": {},
   "outputs": [
    {
     "data": {
      "text/plain": [
       "[QueryResult({'iri': 'http://uri.interlex.org/base/ilx_0101431', 'curie': 'ILX:0101431', 'label': 'Brain', 'labels': (), 'definition': 'The part of the central nervous system contained within the cranium, comprising the forebrain, midbrain, hindbrain, and metencephalon. It is derived from the anterior part of the embryonic neural tube (or the encephalon). Does not include retina. (CUMBO)The rostral topographic division of the cerebrospinal axis, while the caudal division is the spinal cord. The usual criterion for distinguishing the two divisions in the adult is that the vertebrate brain lies within the skull whereas the spinal cord lies within the spinal (vertebral) column, although this is a difficult problem. (Swanson, 2014)', 'synonyms': ({'literal': 'Encephalon', 'type': ''},), 'deprecated': None, 'predicates': {'ilxr:type': OntId('ilx.type:term'), 'ilxtr:hasExistingId': (OntId('BIRNLEX:796'), OntId('ILX:0101431'), OntId('UBERON:0000955')), 'ilxtr:hasIlxId': OntId('ILX:0101431'), 'TEMP:preferredId': OntId('UBERON:0000955'), 'rdfs:subClassOf': (OntId('ILX:0108124'),)}, 'type': None, 'types': (), '_graph': None, '_blob': {'ilx': 'ilx_0101431', 'label': 'Brain', 'definition': 'The part of the central nervous system contained within the cranium, comprising the forebrain, midbrain, hindbrain, and metencephalon. It is derived from the anterior part of the embryonic neural tube (or the encephalon). Does not include retina. (CUMBO)The rostral topographic division of the cerebrospinal axis, while the caudal division is the spinal cord. The usual criterion for distinguishing the two divisions in the adult is that the vertebrate brain lies within the skull whereas the spinal cord lies within the spinal (vertebral) column, although this is a difficult problem. (Swanson, 2014)', 'comment': '', 'type': 'term', 'status': '0', 'synonyms': [{'literal': 'Encephalon', 'type': ''}], 'existing_ids': [{'curie': 'BIRNLEX:796', 'iri': 'http://uri.neuinfo.org/nif/nifstd/birnlex_796', 'preferred': '0'}, {'curie': 'ILX:0101431', 'iri': 'http://uri.interlex.org/base/ilx_0101431', 'preferred': '0'}, {'curie': 'UBERON:0000955', 'iri': 'http://purl.obolibrary.org/obo/UBERON_0000955', 'preferred': '1'}], 'superclasses': [{'ilx': 'ilx_0108124', 'label': 'Organ'}], 'ancestors': [{'ilx': 'ilx_0108124', 'label': 'Organ'}, {'ilx': 'ilx_0100612', 'label': 'Anatomical entity'}, {'ilx': 'ilx_0105405', 'label': 'Independent continuant'}, {'ilx': 'ilx_0102514', 'label': 'Continuant'}], 'relationships': [{'term2_label': 'CUMBO term', 'term2_ilx': 'ilx_0102661', 'relationship_term_label': 'Has role', 'relationship_term_ilx': 'ilx_0112784'}, {'term2_label': 'Cerebrospinal axis', 'term2_ilx': 'ilx_0101999', 'relationship_term_label': 'Is part of', 'relationship_term_ilx': 'ilx_0112785'}, {'term2_label': 'Central nervous system', 'term2_ilx': 'ilx_0101901', 'relationship_term_label': 'Related to', 'relationship_term_ilx': 'ilx_0112796'}, {'term1_label': 'Brain of WHS11', 'term1_ilx': 'ilx_0101438', 'relationship_term_label': 'Partially overlaps with', 'relationship_term_ilx': 'ilx_0112794'}, {'term1_label': 'Forebrain', 'term1_ilx': 'ilx_0104355', 'relationship_term_label': 'Is part of', 'relationship_term_ilx': 'ilx_0112785'}, {'term1_label': 'Hindbrain', 'term1_ilx': 'ilx_0105004', 'relationship_term_label': 'Is part of', 'relationship_term_ilx': 'ilx_0112785'}, {'term1_label': 'Midbrain', 'term1_ilx': 'ilx_0106935', 'relationship_term_label': 'Is part of', 'relationship_term_ilx': 'ilx_0112785'}, {'term1_label': 'brain gray matter volume', 'term1_ilx': 'ilx_0381390', 'relationship_term_label': 'is about', 'relationship_term_ilx': 'ilx_0381385'}, {'term1_label': 'sub-cortical gray matter volume', 'term1_ilx': 'ilx_0381443', 'relationship_term_label': 'is about', 'relationship_term_ilx': 'ilx_0381385'}, {'term1_label': 'Cerebellum', 'term1_ilx': 'ilx_0101963', 'relationship_term_label': 'Is part of', 'relationship_term_ilx': 'ilx_0112785'}], 'annotations': [{'value': 'http://neurolex.org/wiki/birnlex_796', 'annotation_term_label': 'hasDbXref', 'annotation_term_ilx': 'ilx_0381360'}, {'value': 'MAT:0000098', 'annotation_term_label': 'hasDbXref', 'annotation_term_ilx': 'ilx_0381360'}, {'value': 'encephalon', 'annotation_term_label': 'hasRelatedSynonym', 'annotation_term_ilx': 'ilx_0737162'}, {'value': 'the brain', 'annotation_term_label': 'hasRelatedSynonym', 'annotation_term_ilx': 'ilx_0737162'}, {'value': 'synganglion', 'annotation_term_label': 'hasRelatedSynonym', 'annotation_term_ilx': 'ilx_0737162'}, {'value': 'suprasegmental levels of nervous system', 'annotation_term_label': 'hasRelatedSynonym', 'annotation_term_ilx': 'ilx_0737162'}, {'value': 'suprasegmental structures', 'annotation_term_label': 'hasRelatedSynonym', 'annotation_term_ilx': 'ilx_0737162'}, {'value': 'FBbt:00005095', 'annotation_term_label': 'hasDbXref', 'annotation_term_ilx': 'ilx_0381360'}, {'value': 'PBA:3999', 'annotation_term_label': 'hasDbXref', 'annotation_term_ilx': 'ilx_0381360'}, {'value': 'http://en.wikipedia.org/wiki/Brain', 'annotation_term_label': 'hasDbXref', 'annotation_term_ilx': 'ilx_0381360'}, {'value': 'NCIT:C12439', 'annotation_term_label': 'hasDbXref', 'annotation_term_ilx': 'ilx_0381360'}, {'value': 'EHDAA:6485', 'annotation_term_label': 'hasDbXref', 'annotation_term_ilx': 'ilx_0381360'}, {'value': 'http://braininfo.rprc.washington.edu/centraldirectory.aspx?ID=21', 'annotation_term_label': 'hasDbXref', 'annotation_term_ilx': 'ilx_0381360'}, {'value': 'MBA:8', 'annotation_term_label': 'hasDbXref', 'annotation_term_ilx': 'ilx_0381360'}, {'value': 'MIAA:0000098', 'annotation_term_label': 'hasDbXref', 'annotation_term_ilx': 'ilx_0381360'}, {'value': 'http://braininfo.rprc.washington.edu/centraldirectory.aspx?ID=21', 'annotation_term_label': 'hasDbXref', 'annotation_term_ilx': 'ilx_0381360'}, {'value': 'ZFA:0000008', 'annotation_term_label': 'hasDbXref', 'annotation_term_ilx': 'ilx_0381360'}, {'value': 'FMA:50801', 'annotation_term_label': 'hasDbXref', 'annotation_term_ilx': 'ilx_0381360'}, {'value': 'http://www.snomedbrowser.com/Codes/Details/258335003', 'annotation_term_label': 'hasDbXref', 'annotation_term_ilx': 'ilx_0381360'}, {'value': 'OpenCyc:Mx4rvVjT65wpEbGdrcN5Y29ycA', 'annotation_term_label': 'hasDbXref', 'annotation_term_ilx': 'ilx_0381360'}, {'value': 'BILA:0000135', 'annotation_term_label': 'hasDbXref', 'annotation_term_ilx': 'ilx_0381360'}, {'value': 'http://uri.neuinfo.org/nif/nifstd/birnlex_796', 'annotation_term_label': 'hasDbXref', 'annotation_term_ilx': 'ilx_0381360'}, {'value': 'http://linkedlifedata.com/resource/umls/id/C1269537', 'annotation_term_label': 'hasDbXref', 'annotation_term_ilx': 'ilx_0381360'}, {'value': 'http://linkedlifedata.com/resource/umls/id/C0006104', 'annotation_term_label': 'hasDbXref', 'annotation_term_ilx': 'ilx_0381360'}, {'value': 'UMLS:C0006104', 'annotation_term_label': 'hasDbXref', 'annotation_term_ilx': 'ilx_0381360'}, {'value': 'MBA:997', 'annotation_term_label': 'hasDbXref', 'annotation_term_ilx': 'ilx_0381360'}, {'value': 'EV:0100164', 'annotation_term_label': 'hasDbXref', 'annotation_term_ilx': 'ilx_0381360'}, {'value': 'AAO:0010478', 'annotation_term_label': 'hasDbXref', 'annotation_term_ilx': 'ilx_0381360'}, {'value': 'galen:Brain', 'annotation_term_label': 'hasDbXref', 'annotation_term_ilx': 'ilx_0381360'}, {'value': 'EHDAA2:0000183', 'annotation_term_label': 'hasDbXref', 'annotation_term_ilx': 'ilx_0381360'}, {'value': 'BAMS:Brain', 'annotation_term_label': 'hasDbXref', 'annotation_term_ilx': 'ilx_0381360'}, {'value': 'EHDAA:2641', 'annotation_term_label': 'hasDbXref', 'annotation_term_ilx': 'ilx_0381360'}, {'value': 'BAMS:Br', 'annotation_term_label': 'hasDbXref', 'annotation_term_ilx': 'ilx_0381360'}, {'value': 'UMLS:C1269537', 'annotation_term_label': 'hasDbXref', 'annotation_term_ilx': 'ilx_0381360'}, {'value': 'HBA:4005', 'annotation_term_label': 'hasDbXref', 'annotation_term_ilx': 'ilx_0381360'}, {'value': 'BTO:0000142', 'annotation_term_label': 'hasDbXref', 'annotation_term_ilx': 'ilx_0381360'}, {'value': 'ABA:Brain', 'annotation_term_label': 'hasDbXref', 'annotation_term_ilx': 'ilx_0381360'}, {'value': 'VHOG:0000157', 'annotation_term_label': 'hasDbXref', 'annotation_term_ilx': 'ilx_0381360'}, {'value': 'EFO:0000302', 'annotation_term_label': 'hasDbXref', 'annotation_term_ilx': 'ilx_0381360'}, {'value': 'MESH:D001921', 'annotation_term_label': 'hasDbXref', 'annotation_term_ilx': 'ilx_0381360'}, {'value': 'MA:0000168', 'annotation_term_label': 'hasDbXref', 'annotation_term_ilx': 'ilx_0381360'}, {'value': 'XAO:0000010', 'annotation_term_label': 'hasDbXref', 'annotation_term_ilx': 'ilx_0381360'}, {'value': 'EMAPA:16894', 'annotation_term_label': 'hasDbXref', 'annotation_term_ilx': 'ilx_0381360'}, {'value': 'CALOHA:TS-0095', 'annotation_term_label': 'hasDbXref', 'annotation_term_ilx': 'ilx_0381360'}, {'value': 'DHBA:10155', 'annotation_term_label': 'hasDbXref', 'annotation_term_ilx': 'ilx_0381360'}, {'value': 'TAO:0000008', 'annotation_term_label': 'hasDbXref', 'annotation_term_ilx': 'ilx_0381360'}, {'value': 'GAID:571', 'annotation_term_label': 'hasDbXref', 'annotation_term_ilx': 'ilx_0381360'}], 'ontologies': [{'url': 'https://raw.githubusercontent.com/tgbugs/nlxeol/master/neurolex_full.csv'}]}, 'source': <ontquery.plugins.services.interlex.InterLexRemote object at 0x7fd3540f9a90>})]"
      ]
     },
     "execution_count": 4,
     "metadata": {},
     "output_type": "execute_result"
    }
   ],
   "source": [
    "# Exact Search with only 1 result back\n",
    "list(ilx_cli.query(label='brain'))"
   ]
  },
  {
   "cell_type": "markdown",
   "metadata": {},
   "source": [
    "# Get OntTerm represention of query result"
   ]
  },
  {
   "cell_type": "code",
   "execution_count": 5,
   "metadata": {},
   "outputs": [
    {
     "data": {
      "text/plain": [
       "[OntTerm('ILX:0101431')]"
      ]
     },
     "execution_count": 5,
     "metadata": {},
     "output_type": "execute_result"
    }
   ],
   "source": [
    "[qr.asTerm() for qr in ilx_cli.query(label='brain')]"
   ]
  },
  {
   "cell_type": "markdown",
   "metadata": {},
   "source": [
    "# Query All Fields"
   ]
  },
  {
   "cell_type": "code",
   "execution_count": 6,
   "metadata": {},
   "outputs": [
    {
     "data": {
      "text/plain": [
       "[QueryResult({'iri': 'http://uri.interlex.org/base/ilx_0101431', 'curie': 'ILX:0101431', 'label': 'Brain', 'labels': (), 'definition': 'The part of the central nervous system contained within the cranium, comprising the forebrain, midbrain, hindbrain, and metencephalon. It is derived from the anterior part of the embryonic neural tube (or the encephalon). Does not include retina. (CUMBO)The rostral topographic division of the cerebrospinal axis, while the caudal division is the spinal cord. The usual criterion for distinguishing the two divisions in the adult is that the vertebrate brain lies within the skull whereas the spinal cord lies within the spinal (vertebral) column, although this is a difficult problem. (Swanson, 2014)', 'synonyms': ({'literal': 'Encephalon', 'type': ''},), 'deprecated': None, 'predicates': {'ilxr:type': OntId('ilx.type:term'), 'ilxtr:hasExistingId': (OntId('BIRNLEX:796'), OntId('ILX:0101431'), OntId('UBERON:0000955')), 'ilxtr:hasIlxId': OntId('ILX:0101431'), 'TEMP:preferredId': OntId('UBERON:0000955'), 'rdfs:subClassOf': (OntId('ILX:0108124'),)}, 'type': None, 'types': (), '_graph': None, '_blob': {'ilx': 'ilx_0101431', 'label': 'Brain', 'definition': 'The part of the central nervous system contained within the cranium, comprising the forebrain, midbrain, hindbrain, and metencephalon. It is derived from the anterior part of the embryonic neural tube (or the encephalon). Does not include retina. (CUMBO)The rostral topographic division of the cerebrospinal axis, while the caudal division is the spinal cord. The usual criterion for distinguishing the two divisions in the adult is that the vertebrate brain lies within the skull whereas the spinal cord lies within the spinal (vertebral) column, although this is a difficult problem. (Swanson, 2014)', 'comment': '', 'type': 'term', 'status': '0', 'synonyms': [{'literal': 'Encephalon', 'type': ''}], 'existing_ids': [{'curie': 'BIRNLEX:796', 'iri': 'http://uri.neuinfo.org/nif/nifstd/birnlex_796', 'preferred': '0'}, {'curie': 'ILX:0101431', 'iri': 'http://uri.interlex.org/base/ilx_0101431', 'preferred': '0'}, {'curie': 'UBERON:0000955', 'iri': 'http://purl.obolibrary.org/obo/UBERON_0000955', 'preferred': '1'}], 'superclasses': [{'ilx': 'ilx_0108124', 'label': 'Organ'}], 'ancestors': [{'ilx': 'ilx_0108124', 'label': 'Organ'}, {'ilx': 'ilx_0100612', 'label': 'Anatomical entity'}, {'ilx': 'ilx_0105405', 'label': 'Independent continuant'}, {'ilx': 'ilx_0102514', 'label': 'Continuant'}], 'relationships': [{'term2_label': 'CUMBO term', 'term2_ilx': 'ilx_0102661', 'relationship_term_label': 'Has role', 'relationship_term_ilx': 'ilx_0112784'}, {'term2_label': 'Cerebrospinal axis', 'term2_ilx': 'ilx_0101999', 'relationship_term_label': 'Is part of', 'relationship_term_ilx': 'ilx_0112785'}, {'term2_label': 'Central nervous system', 'term2_ilx': 'ilx_0101901', 'relationship_term_label': 'Related to', 'relationship_term_ilx': 'ilx_0112796'}, {'term1_label': 'Brain of WHS11', 'term1_ilx': 'ilx_0101438', 'relationship_term_label': 'Partially overlaps with', 'relationship_term_ilx': 'ilx_0112794'}, {'term1_label': 'Forebrain', 'term1_ilx': 'ilx_0104355', 'relationship_term_label': 'Is part of', 'relationship_term_ilx': 'ilx_0112785'}, {'term1_label': 'Hindbrain', 'term1_ilx': 'ilx_0105004', 'relationship_term_label': 'Is part of', 'relationship_term_ilx': 'ilx_0112785'}, {'term1_label': 'Midbrain', 'term1_ilx': 'ilx_0106935', 'relationship_term_label': 'Is part of', 'relationship_term_ilx': 'ilx_0112785'}, {'term1_label': 'brain gray matter volume', 'term1_ilx': 'ilx_0381390', 'relationship_term_label': 'is about', 'relationship_term_ilx': 'ilx_0381385'}, {'term1_label': 'sub-cortical gray matter volume', 'term1_ilx': 'ilx_0381443', 'relationship_term_label': 'is about', 'relationship_term_ilx': 'ilx_0381385'}, {'term1_label': 'Cerebellum', 'term1_ilx': 'ilx_0101963', 'relationship_term_label': 'Is part of', 'relationship_term_ilx': 'ilx_0112785'}], 'annotations': [{'value': 'http://neurolex.org/wiki/birnlex_796', 'annotation_term_label': 'hasDbXref', 'annotation_term_ilx': 'ilx_0381360'}, {'value': 'MAT:0000098', 'annotation_term_label': 'hasDbXref', 'annotation_term_ilx': 'ilx_0381360'}, {'value': 'encephalon', 'annotation_term_label': 'hasRelatedSynonym', 'annotation_term_ilx': 'ilx_0737162'}, {'value': 'the brain', 'annotation_term_label': 'hasRelatedSynonym', 'annotation_term_ilx': 'ilx_0737162'}, {'value': 'synganglion', 'annotation_term_label': 'hasRelatedSynonym', 'annotation_term_ilx': 'ilx_0737162'}, {'value': 'suprasegmental levels of nervous system', 'annotation_term_label': 'hasRelatedSynonym', 'annotation_term_ilx': 'ilx_0737162'}, {'value': 'suprasegmental structures', 'annotation_term_label': 'hasRelatedSynonym', 'annotation_term_ilx': 'ilx_0737162'}, {'value': 'FBbt:00005095', 'annotation_term_label': 'hasDbXref', 'annotation_term_ilx': 'ilx_0381360'}, {'value': 'PBA:3999', 'annotation_term_label': 'hasDbXref', 'annotation_term_ilx': 'ilx_0381360'}, {'value': 'http://en.wikipedia.org/wiki/Brain', 'annotation_term_label': 'hasDbXref', 'annotation_term_ilx': 'ilx_0381360'}, {'value': 'NCIT:C12439', 'annotation_term_label': 'hasDbXref', 'annotation_term_ilx': 'ilx_0381360'}, {'value': 'EHDAA:6485', 'annotation_term_label': 'hasDbXref', 'annotation_term_ilx': 'ilx_0381360'}, {'value': 'http://braininfo.rprc.washington.edu/centraldirectory.aspx?ID=21', 'annotation_term_label': 'hasDbXref', 'annotation_term_ilx': 'ilx_0381360'}, {'value': 'MBA:8', 'annotation_term_label': 'hasDbXref', 'annotation_term_ilx': 'ilx_0381360'}, {'value': 'MIAA:0000098', 'annotation_term_label': 'hasDbXref', 'annotation_term_ilx': 'ilx_0381360'}, {'value': 'http://braininfo.rprc.washington.edu/centraldirectory.aspx?ID=21', 'annotation_term_label': 'hasDbXref', 'annotation_term_ilx': 'ilx_0381360'}, {'value': 'ZFA:0000008', 'annotation_term_label': 'hasDbXref', 'annotation_term_ilx': 'ilx_0381360'}, {'value': 'FMA:50801', 'annotation_term_label': 'hasDbXref', 'annotation_term_ilx': 'ilx_0381360'}, {'value': 'http://www.snomedbrowser.com/Codes/Details/258335003', 'annotation_term_label': 'hasDbXref', 'annotation_term_ilx': 'ilx_0381360'}, {'value': 'OpenCyc:Mx4rvVjT65wpEbGdrcN5Y29ycA', 'annotation_term_label': 'hasDbXref', 'annotation_term_ilx': 'ilx_0381360'}, {'value': 'BILA:0000135', 'annotation_term_label': 'hasDbXref', 'annotation_term_ilx': 'ilx_0381360'}, {'value': 'http://uri.neuinfo.org/nif/nifstd/birnlex_796', 'annotation_term_label': 'hasDbXref', 'annotation_term_ilx': 'ilx_0381360'}, {'value': 'http://linkedlifedata.com/resource/umls/id/C1269537', 'annotation_term_label': 'hasDbXref', 'annotation_term_ilx': 'ilx_0381360'}, {'value': 'http://linkedlifedata.com/resource/umls/id/C0006104', 'annotation_term_label': 'hasDbXref', 'annotation_term_ilx': 'ilx_0381360'}, {'value': 'UMLS:C0006104', 'annotation_term_label': 'hasDbXref', 'annotation_term_ilx': 'ilx_0381360'}, {'value': 'MBA:997', 'annotation_term_label': 'hasDbXref', 'annotation_term_ilx': 'ilx_0381360'}, {'value': 'EV:0100164', 'annotation_term_label': 'hasDbXref', 'annotation_term_ilx': 'ilx_0381360'}, {'value': 'AAO:0010478', 'annotation_term_label': 'hasDbXref', 'annotation_term_ilx': 'ilx_0381360'}, {'value': 'galen:Brain', 'annotation_term_label': 'hasDbXref', 'annotation_term_ilx': 'ilx_0381360'}, {'value': 'EHDAA2:0000183', 'annotation_term_label': 'hasDbXref', 'annotation_term_ilx': 'ilx_0381360'}, {'value': 'BAMS:Brain', 'annotation_term_label': 'hasDbXref', 'annotation_term_ilx': 'ilx_0381360'}, {'value': 'EHDAA:2641', 'annotation_term_label': 'hasDbXref', 'annotation_term_ilx': 'ilx_0381360'}, {'value': 'BAMS:Br', 'annotation_term_label': 'hasDbXref', 'annotation_term_ilx': 'ilx_0381360'}, {'value': 'UMLS:C1269537', 'annotation_term_label': 'hasDbXref', 'annotation_term_ilx': 'ilx_0381360'}, {'value': 'HBA:4005', 'annotation_term_label': 'hasDbXref', 'annotation_term_ilx': 'ilx_0381360'}, {'value': 'BTO:0000142', 'annotation_term_label': 'hasDbXref', 'annotation_term_ilx': 'ilx_0381360'}, {'value': 'ABA:Brain', 'annotation_term_label': 'hasDbXref', 'annotation_term_ilx': 'ilx_0381360'}, {'value': 'VHOG:0000157', 'annotation_term_label': 'hasDbXref', 'annotation_term_ilx': 'ilx_0381360'}, {'value': 'EFO:0000302', 'annotation_term_label': 'hasDbXref', 'annotation_term_ilx': 'ilx_0381360'}, {'value': 'MESH:D001921', 'annotation_term_label': 'hasDbXref', 'annotation_term_ilx': 'ilx_0381360'}, {'value': 'MA:0000168', 'annotation_term_label': 'hasDbXref', 'annotation_term_ilx': 'ilx_0381360'}, {'value': 'XAO:0000010', 'annotation_term_label': 'hasDbXref', 'annotation_term_ilx': 'ilx_0381360'}, {'value': 'EMAPA:16894', 'annotation_term_label': 'hasDbXref', 'annotation_term_ilx': 'ilx_0381360'}, {'value': 'CALOHA:TS-0095', 'annotation_term_label': 'hasDbXref', 'annotation_term_ilx': 'ilx_0381360'}, {'value': 'DHBA:10155', 'annotation_term_label': 'hasDbXref', 'annotation_term_ilx': 'ilx_0381360'}, {'value': 'TAO:0000008', 'annotation_term_label': 'hasDbXref', 'annotation_term_ilx': 'ilx_0381360'}, {'value': 'GAID:571', 'annotation_term_label': 'hasDbXref', 'annotation_term_ilx': 'ilx_0381360'}], 'ontologies': [{'url': 'https://raw.githubusercontent.com/tgbugs/nlxeol/master/neurolex_full.csv'}]}, 'source': <ontquery.plugins.services.interlex.InterLexRemote object at 0x7fd3540f9a90>}),\n",
       " QueryResult({'iri': 'http://uri.interlex.org/base/ilx_0101434', 'curie': 'ILX:0101434', 'label': 'Brain Ischemia', 'labels': (), 'definition': 'Localized reduction of blood flow to brain tissue due to arterial obstruction or systemic hypoperfusion. This frequently occurs in conjunction with brain hypoxia ( HYPOXIA, BRAIN). Prolonged ischemia is associated with BRAIN INFARCTION (MeSH).', 'synonyms': ({'literal': 'Ischemic Brain Injury', 'type': ''}, {'literal': 'Ischemic Encephalopathy', 'type': ''}), 'deprecated': None, 'predicates': {'ilxr:type': OntId('ilx.type:term'), 'ilxtr:hasExistingId': (OntId('BIRNLEX:12781'), OntId('ILX:0101434')), 'ilxtr:hasIlxId': OntId('ILX:0101434'), 'TEMP:preferredId': OntId('ILX:0101434'), 'rdfs:subClassOf': (OntId('ILX:0102001'),)}, 'type': None, 'types': (), '_graph': None, '_blob': {'ilx': 'ilx_0101434', 'label': 'Brain Ischemia', 'definition': 'Localized reduction of blood flow to brain tissue due to arterial obstruction or systemic hypoperfusion. This frequently occurs in conjunction with brain hypoxia ( HYPOXIA, BRAIN). Prolonged ischemia is associated with BRAIN INFARCTION (MeSH).', 'comment': '', 'type': 'term', 'status': '0', 'synonyms': [{'literal': 'Ischemic Brain Injury', 'type': ''}, {'literal': 'Ischemic Encephalopathy', 'type': ''}], 'existing_ids': [{'curie': 'BIRNLEX:12781', 'iri': 'http://uri.neuinfo.org/nif/nifstd/birnlex_12781', 'preferred': '0'}, {'curie': 'ILX:0101434', 'iri': 'http://uri.interlex.org/base/ilx_0101434', 'preferred': '1'}], 'superclasses': [{'ilx': 'ilx_0102001', 'label': 'Cerebrovascular Disorder'}], 'ancestors': [{'ilx': 'ilx_0102001', 'label': 'Cerebrovascular Disorder'}, {'ilx': 'ilx_0107424', 'label': 'Nervous system disease'}, {'ilx': 'ilx_0103313', 'label': 'Disease'}, {'ilx': 'ilx_0103327', 'label': 'Disposition'}, {'ilx': 'ilx_0109677', 'label': 'Realizable entity'}, {'ilx': 'ilx_0110855', 'label': 'Specifically dependent continuant'}, {'ilx': 'ilx_0103091', 'label': 'Dependent continuant'}, {'ilx': 'ilx_0102514', 'label': 'Continuant'}], 'relationships': [], 'annotations': [{'value': 'http://neurolex.org/wiki/birnlex_12781', 'annotation_term_label': 'hasDbXref', 'annotation_term_ilx': 'ilx_0381360'}], 'ontologies': [{'url': 'https://raw.githubusercontent.com/tgbugs/nlxeol/master/neurolex_full.csv'}]}, 'source': <ontquery.plugins.services.interlex.InterLexRemote object at 0x7fd3540f9a90>}),\n",
       " QueryResult({'iri': 'http://uri.interlex.org/base/ilx_0461406', 'curie': 'ILX:0461406', 'label': 'Brain Death', 'labels': (), 'definition': 'A state of prolonged irreversible cessation of all brain activity, including lower brain stem function with the complete absence of voluntary movements, responses to stimuli, brain stem reflexes, and spontaneous respirations. Reversible conditions which mimic this clinical state (e.g., sedative overdose, hypothermia, etc.) are excluded prior to making the determination of brain death. (From Adams et al., Principles of Neurology, 6th ed, pp348-9)', 'synonyms': (), 'deprecated': None, 'predicates': {'ilxr:type': OntId('ilx.type:term'), 'ilxtr:hasExistingId': (OntId(https://ncimeta.nci.nih.gov/ncimbrowser/ConceptReport.jsp?dictionary=NCI%20Metathesaurus&code=C0006110), OntId(http://id.nlm.nih.gov/mesh/2018/M0002873), OntId('ILX:0461406')), 'ilxtr:hasIlxId': OntId('ILX:0461406'), 'rdfs:subClassOf': ()}, 'type': None, 'types': (), '_graph': None, '_blob': {'ilx': 'ilx_0461406', 'label': 'Brain Death', 'definition': 'A state of prolonged irreversible cessation of all brain activity, including lower brain stem function with the complete absence of voluntary movements, responses to stimuli, brain stem reflexes, and spontaneous respirations. Reversible conditions which mimic this clinical state (e.g., sedative overdose, hypothermia, etc.) are excluded prior to making the determination of brain death. (From Adams et al., Principles of Neurology, 6th ed, pp348-9)', 'comment': '', 'type': 'term', 'status': '0', 'synonyms': [], 'existing_ids': [{'curie': 'NCIM:C0006110', 'iri': 'https://ncimeta.nci.nih.gov/ncimbrowser/ConceptReport.jsp?dictionary=NCI%20Metathesaurus&code=C0006110', 'preferred': '0'}, {'curie': 'MESH:M0002873', 'iri': 'http://id.nlm.nih.gov/mesh/2018/M0002873', 'preferred': '0'}, {'curie': 'ILX:0461406', 'iri': 'http://uri.interlex.org/base/ilx_0461406', 'preferred': '0'}], 'superclasses': [], 'ancestors': [], 'relationships': [], 'annotations': [], 'ontologies': []}, 'source': <ontquery.plugins.services.interlex.InterLexRemote object at 0x7fd3540f9a90>}),\n",
       " QueryResult({'iri': 'http://uri.interlex.org/base/ilx_0732724', 'curie': 'ILX:0732724', 'label': 'embryonic brain', 'labels': (), 'definition': 'Brain of the embryo.', 'synonyms': (), 'deprecated': None, 'predicates': {'ilxr:type': OntId('ilx.type:term'), 'ilxtr:hasExistingId': (OntId('UBERON:6001060'), OntId('ILX:0732724')), 'ilxtr:hasIlxId': OntId('ILX:0732724'), 'TEMP:preferredId': OntId('UBERON:6001060'), 'rdfs:subClassOf': ()}, 'type': None, 'types': (), '_graph': None, '_blob': {'ilx': 'ilx_0732724', 'label': 'embryonic brain', 'definition': 'Brain of the embryo.', 'comment': '', 'type': 'term', 'status': '0', 'synonyms': [], 'existing_ids': [{'curie': 'UBERON:6001060', 'iri': 'http://purl.obolibrary.org/obo/UBERON_6001060', 'preferred': '1'}, {'curie': 'ILX:0732724', 'iri': 'http://uri.interlex.org/base/ilx_0732724', 'preferred': '0'}], 'superclasses': [], 'ancestors': [], 'relationships': [], 'annotations': [{'value': 'FBbt:00001060', 'annotation_term_label': 'hasDbXref', 'annotation_term_ilx': 'ilx_0381360'}], 'ontologies': []}, 'source': <ontquery.plugins.services.interlex.InterLexRemote object at 0x7fd3540f9a90>}),\n",
       " QueryResult({'iri': 'http://uri.interlex.org/base/ilx_0733041', 'curie': 'ILX:0733041', 'label': 'brain endothelium', 'labels': (), 'definition': 'Vascular endothelium found in blood vessels of the blood-brain-barrier.', 'synonyms': ({'literal': 'cerebromicrovascular endothelium', 'type': 'oboInOwl:hasRelatedSynonym'},), 'deprecated': None, 'predicates': {'ilxr:type': OntId('ilx.type:term'), 'ilxtr:hasExistingId': (OntId('UBERON:0013694'), OntId('ILX:0733041')), 'ilxtr:hasIlxId': OntId('ILX:0733041'), 'TEMP:preferredId': OntId('UBERON:0013694'), 'rdfs:subClassOf': ()}, 'type': None, 'types': (), '_graph': None, '_blob': {'ilx': 'ilx_0733041', 'label': 'brain endothelium', 'definition': 'Vascular endothelium found in blood vessels of the blood-brain-barrier.', 'comment': '', 'type': 'term', 'status': '0', 'synonyms': [{'literal': 'cerebromicrovascular endothelium', 'type': 'oboInOwl:hasRelatedSynonym'}], 'existing_ids': [{'curie': 'UBERON:0013694', 'iri': 'http://purl.obolibrary.org/obo/UBERON_0013694', 'preferred': '1'}, {'curie': 'ILX:0733041', 'iri': 'http://uri.interlex.org/base/ilx_0733041', 'preferred': '0'}], 'superclasses': [], 'ancestors': [], 'relationships': [], 'annotations': [{'value': 'BTO:0003248', 'annotation_term_label': 'hasDbXref', 'annotation_term_ilx': 'ilx_0381360'}, {'value': 'cerebromicrovascular endothelium', 'annotation_term_label': 'hasRelatedSynonym', 'annotation_term_ilx': 'ilx_0737162'}, {'value': 'BTO:0001852', 'annotation_term_label': 'hasDbXref', 'annotation_term_ilx': 'ilx_0381360'}, {'value': 'CALOHA:TS-0092', 'annotation_term_label': 'hasDbXref', 'annotation_term_ilx': 'ilx_0381360'}], 'ontologies': []}, 'source': <ontquery.plugins.services.interlex.InterLexRemote object at 0x7fd3540f9a90>}),\n",
       " QueryResult({'iri': 'http://uri.interlex.org/base/ilx_0506479', 'curie': 'ILX:0506479', 'label': 'Brain Thrombosis', 'labels': (), 'definition': '', 'synonyms': (), 'deprecated': None, 'predicates': {'ilxr:type': OntId('ilx.type:term'), 'ilxtr:hasExistingId': (OntId(https://ncimeta.nci.nih.gov/ncimbrowser/ConceptReport.jsp?dictionary=NCI%20Metathesaurus&code=C0752144), OntId(http://id.nlm.nih.gov/mesh/2018/M0335457), OntId('ILX:0506479')), 'ilxtr:hasIlxId': OntId('ILX:0506479'), 'rdfs:subClassOf': ()}, 'type': None, 'types': (), '_graph': None, '_blob': {'ilx': 'ilx_0506479', 'label': 'Brain Thrombosis', 'definition': '', 'comment': '', 'type': 'term', 'status': '0', 'synonyms': [], 'existing_ids': [{'curie': 'NCIM:C0752144', 'iri': 'https://ncimeta.nci.nih.gov/ncimbrowser/ConceptReport.jsp?dictionary=NCI%20Metathesaurus&code=C0752144', 'preferred': '0'}, {'curie': 'MESH:M0335457', 'iri': 'http://id.nlm.nih.gov/mesh/2018/M0335457', 'preferred': '0'}, {'curie': 'ILX:0506479', 'iri': 'http://uri.interlex.org/base/ilx_0506479', 'preferred': '0'}], 'superclasses': [], 'ancestors': [], 'relationships': [], 'annotations': [], 'ontologies': []}, 'source': <ontquery.plugins.services.interlex.InterLexRemote object at 0x7fd3540f9a90>}),\n",
       " QueryResult({'iri': 'http://uri.interlex.org/base/ilx_0489948', 'curie': 'ILX:0489948', 'label': 'Brain Waves', 'labels': (), 'definition': 'Wave-like oscillations of electric potential between parts of the brain recorded by EEG.', 'synonyms': (), 'deprecated': None, 'predicates': {'ilxr:type': OntId('ilx.type:term'), 'ilxtr:hasExistingId': (OntId(https://ncimeta.nci.nih.gov/ncimbrowser/ConceptReport.jsp?dictionary=NCI%20Metathesaurus&code=C0678909), OntId(http://id.nlm.nih.gov/mesh/2018/M0541616), OntId('ILX:0489948')), 'ilxtr:hasIlxId': OntId('ILX:0489948'), 'rdfs:subClassOf': ()}, 'type': None, 'types': (), '_graph': None, '_blob': {'ilx': 'ilx_0489948', 'label': 'Brain Waves', 'definition': 'Wave-like oscillations of electric potential between parts of the brain recorded by EEG.', 'comment': '', 'type': 'term', 'status': '0', 'synonyms': [], 'existing_ids': [{'curie': 'NCIM:C0678909', 'iri': 'https://ncimeta.nci.nih.gov/ncimbrowser/ConceptReport.jsp?dictionary=NCI%20Metathesaurus&code=C0678909', 'preferred': '0'}, {'curie': 'MESH:M0541616', 'iri': 'http://id.nlm.nih.gov/mesh/2018/M0541616', 'preferred': '0'}, {'curie': 'ILX:0489948', 'iri': 'http://uri.interlex.org/base/ilx_0489948', 'preferred': '0'}], 'superclasses': [], 'ancestors': [], 'relationships': [], 'annotations': [], 'ontologies': []}, 'source': <ontquery.plugins.services.interlex.InterLexRemote object at 0x7fd3540f9a90>}),\n",
       " QueryResult({'iri': 'http://uri.interlex.org/base/ilx_0730602', 'curie': 'ILX:0730602', 'label': 'brain ventricle', 'labels': (), 'definition': 'one of the system of communicating cavities in the brain that are continuous with the central canal of the spinal cord, that like it are derived from the medullary canal of the embryo, that are lined with an epithelial ependyma, and that contain a serous fluid', 'synonyms': ({'literal': 'cerebral ventricle', 'type': 'oboInOwl:hasExactSynonym'}, {'literal': 'region of ventricular system of brain', 'type': 'oboInOwl:hasExactSynonym'}, {'literal': 'brain ventricles', 'type': 'oboInOwl:hasExactSynonym'}), 'deprecated': None, 'predicates': {'ilxr:type': OntId('ilx.type:term'), 'ilxtr:hasExistingId': (OntId('UBERON:0004086'), OntId('ILX:0730602')), 'ilxtr:hasIlxId': OntId('ILX:0730602'), 'TEMP:preferredId': OntId('UBERON:0004086'), 'rdfs:subClassOf': ()}, 'type': None, 'types': (), '_graph': None, '_blob': {'ilx': 'ilx_0730602', 'label': 'brain ventricle', 'definition': 'one of the system of communicating cavities in the brain that are continuous with the central canal of the spinal cord, that like it are derived from the medullary canal of the embryo, that are lined with an epithelial ependyma, and that contain a serous fluid', 'comment': '', 'type': 'term', 'status': '0', 'synonyms': [{'literal': 'cerebral ventricle', 'type': 'oboInOwl:hasExactSynonym'}, {'literal': 'region of ventricular system of brain', 'type': 'oboInOwl:hasExactSynonym'}, {'literal': 'brain ventricles', 'type': 'oboInOwl:hasExactSynonym'}], 'existing_ids': [{'curie': 'UBERON:0004086', 'iri': 'http://purl.obolibrary.org/obo/UBERON_0004086', 'preferred': '1'}, {'curie': 'ILX:0730602', 'iri': 'http://uri.interlex.org/base/ilx_0730602', 'preferred': '0'}], 'superclasses': [], 'ancestors': [], 'relationships': [], 'annotations': [{'value': 'NCIT:C12356', 'annotation_term_label': 'hasDbXref', 'annotation_term_ilx': 'ilx_0381360'}, {'value': 'http://www.snomedbrowser.com/Codes/Details/180929003', 'annotation_term_label': 'hasDbXref', 'annotation_term_ilx': 'ilx_0381360'}, {'value': 'EFO:0001914', 'annotation_term_label': 'hasDbXref', 'annotation_term_ilx': 'ilx_0381360'}, {'value': 'brain ventricles', 'annotation_term_label': 'hasExactSynonym', 'annotation_term_ilx': 'ilx_0737161'}, {'value': 'cerebral ventricle', 'annotation_term_label': 'hasExactSynonym', 'annotation_term_ilx': 'ilx_0737161'}, {'value': 'OpenCyc:Mx4rvmTY65wpEbGdrcN5Y29ycA', 'annotation_term_label': 'hasDbXref', 'annotation_term_ilx': 'ilx_0381360'}, {'value': 'region of ventricular system of brain', 'annotation_term_label': 'hasExactSynonym', 'annotation_term_ilx': 'ilx_0737161'}, {'value': 'EMAPA:32674', 'annotation_term_label': 'hasDbXref', 'annotation_term_ilx': 'ilx_0381360'}, {'value': 'BTO:0001442', 'annotation_term_label': 'hasDbXref', 'annotation_term_ilx': 'ilx_0381360'}, {'value': 'FMA:78447', 'annotation_term_label': 'hasDbXref', 'annotation_term_ilx': 'ilx_0381360'}, {'value': 'http://braininfo.rprc.washington.edu/centraldirectory.aspx?ID=2497', 'annotation_term_label': 'hasDbXref', 'annotation_term_ilx': 'ilx_0381360'}, {'value': 'HBA:9418', 'annotation_term_label': 'hasDbXref', 'annotation_term_ilx': 'ilx_0381360'}, {'value': 'http://linkedlifedata.com/resource/umls/id/C0007799', 'annotation_term_label': 'hasDbXref', 'annotation_term_ilx': 'ilx_0381360'}, {'value': 'MA:0000818', 'annotation_term_label': 'hasDbXref', 'annotation_term_ilx': 'ilx_0381360'}, {'value': 'UMLS:C0007799', 'annotation_term_label': 'hasDbXref', 'annotation_term_ilx': 'ilx_0381360'}, {'value': 'http://uri.neuinfo.org/nif/nifstd/birnlex_1356', 'annotation_term_label': 'hasDbXref', 'annotation_term_ilx': 'ilx_0381360'}, {'value': 'MESH:D002552', 'annotation_term_label': 'hasDbXref', 'annotation_term_ilx': 'ilx_0381360'}], 'ontologies': []}, 'source': <ontquery.plugins.services.interlex.InterLexRemote object at 0x7fd3540f9a90>}),\n",
       " QueryResult({'iri': 'http://uri.interlex.org/base/ilx_0724788', 'curie': 'ILX:0724788', 'label': 'future brain', 'labels': (), 'definition': 'The embryonic precursor of the brain.', 'synonyms': ({'literal': 'embryonic brain', 'type': 'oboInOwl:hasRelatedSynonym'}, {'literal': 'presumptive brain', 'type': 'oboInOwl:hasExactSynonym'}, {'literal': 'brain rudiment', 'type': 'oboInOwl:hasExactSynonym'}, {'literal': 'encephalon', 'type': 'oboInOwl:hasNarrowSynonym'}), 'deprecated': None, 'predicates': {'ilxr:type': OntId('ilx.type:term'), 'ilxtr:hasExistingId': (OntId('UBERON:0006238'), OntId('ILX:0724788')), 'ilxtr:hasIlxId': OntId('ILX:0724788'), 'TEMP:preferredId': OntId('UBERON:0006238'), 'rdfs:subClassOf': ()}, 'type': None, 'types': (), '_graph': None, '_blob': {'ilx': 'ilx_0724788', 'label': 'future brain', 'definition': 'The embryonic precursor of the brain.', 'comment': '', 'type': 'term', 'status': '0', 'synonyms': [{'literal': 'embryonic brain', 'type': 'oboInOwl:hasRelatedSynonym'}, {'literal': 'presumptive brain', 'type': 'oboInOwl:hasExactSynonym'}, {'literal': 'brain rudiment', 'type': 'oboInOwl:hasExactSynonym'}, {'literal': 'encephalon', 'type': 'oboInOwl:hasNarrowSynonym'}], 'existing_ids': [{'curie': 'UBERON:0006238', 'iri': 'http://purl.obolibrary.org/obo/UBERON_0006238', 'preferred': '1'}, {'curie': 'ILX:0724788', 'iri': 'http://uri.interlex.org/base/ilx_0724788', 'preferred': '0'}], 'superclasses': [], 'ancestors': [], 'relationships': [], 'annotations': [{'value': 'encephalon', 'annotation_term_label': 'hasNarrowSynonym', 'annotation_term_ilx': 'ilx_0737163'}, {'value': 'embryonic brain', 'annotation_term_label': 'hasRelatedSynonym', 'annotation_term_ilx': 'ilx_0737162'}, {'value': 'BTO:0004726', 'annotation_term_label': 'hasDbXref', 'annotation_term_ilx': 'ilx_0381360'}, {'value': 'BAMS:Enc', 'annotation_term_label': 'hasDbXref', 'annotation_term_ilx': 'ilx_0381360'}, {'value': 'EMAPA:16089', 'annotation_term_label': 'hasDbXref', 'annotation_term_ilx': 'ilx_0381360'}, {'value': 'EFO:0003431', 'annotation_term_label': 'hasDbXref', 'annotation_term_ilx': 'ilx_0381360'}, {'value': 'FMA:312967', 'annotation_term_label': 'hasDbXref', 'annotation_term_ilx': 'ilx_0381360'}, {'value': 'RETIRED_EHDAA2:0000591', 'annotation_term_label': 'hasDbXref', 'annotation_term_ilx': 'ilx_0381360'}, {'value': 'EHDAA:830', 'annotation_term_label': 'hasDbXref', 'annotation_term_ilx': 'ilx_0381360'}, {'value': 'brain rudiment', 'annotation_term_label': 'hasExactSynonym', 'annotation_term_ilx': 'ilx_0737161'}, {'value': 'ZFA:0000146', 'annotation_term_label': 'hasDbXref', 'annotation_term_ilx': 'ilx_0381360'}, {'value': 'TAO:0000146', 'annotation_term_label': 'hasDbXref', 'annotation_term_ilx': 'ilx_0381360'}, {'value': 'EHDAA:300', 'annotation_term_label': 'hasDbXref', 'annotation_term_ilx': 'ilx_0381360'}, {'value': 'presumptive brain', 'annotation_term_label': 'hasExactSynonym', 'annotation_term_ilx': 'ilx_0737161'}], 'ontologies': []}, 'source': <ontquery.plugins.services.interlex.InterLexRemote object at 0x7fd3540f9a90>}),\n",
       " QueryResult({'iri': 'http://uri.interlex.org/base/ilx_0730349', 'curie': 'ILX:0730349', 'label': 'brain ependyma', 'labels': (), 'definition': 'the ependymal cell layer that lines the brain ventricles', 'synonyms': ({'literal': 'ependyma of ventricular system of brain', 'type': 'oboInOwl:hasExactSynonym'},), 'deprecated': None, 'predicates': {'ilxr:type': OntId('ilx.type:term'), 'ilxtr:hasExistingId': (OntId('UBERON:0005357'), OntId('ILX:0730349')), 'ilxtr:hasIlxId': OntId('ILX:0730349'), 'TEMP:preferredId': OntId('UBERON:0005357'), 'rdfs:subClassOf': ()}, 'type': None, 'types': (), '_graph': None, '_blob': {'ilx': 'ilx_0730349', 'label': 'brain ependyma', 'definition': 'the ependymal cell layer that lines the brain ventricles', 'comment': '', 'type': 'term', 'status': '0', 'synonyms': [{'literal': 'ependyma of ventricular system of brain', 'type': 'oboInOwl:hasExactSynonym'}], 'existing_ids': [{'curie': 'UBERON:0005357', 'iri': 'http://purl.obolibrary.org/obo/UBERON_0005357', 'preferred': '1'}, {'curie': 'ILX:0730349', 'iri': 'http://uri.interlex.org/base/ilx_0730349', 'preferred': '0'}], 'superclasses': [], 'ancestors': [], 'relationships': [], 'annotations': [{'value': 'ependyma of ventricular system of brain', 'annotation_term_label': 'hasExactSynonym', 'annotation_term_ilx': 'ilx_0737161'}, {'value': 'MESH:D004805', 'annotation_term_label': 'hasDbXref', 'annotation_term_ilx': 'ilx_0381360'}, {'value': 'MA:0000809', 'annotation_term_label': 'hasDbXref', 'annotation_term_ilx': 'ilx_0381360'}, {'value': 'FMA:242837', 'annotation_term_label': 'hasDbXref', 'annotation_term_ilx': 'ilx_0381360'}, {'value': 'EMAPA:35183', 'annotation_term_label': 'hasDbXref', 'annotation_term_ilx': 'ilx_0381360'}], 'ontologies': []}, 'source': <ontquery.plugins.services.interlex.InterLexRemote object at 0x7fd3540f9a90>})]"
      ]
     },
     "execution_count": 6,
     "metadata": {},
     "output_type": "execute_result"
    }
   ],
   "source": [
    "# General Search through elasticsearch & SciGraph\n",
    "list(ilx_cli.query(term='brain'))"
   ]
  },
  {
   "cell_type": "markdown",
   "metadata": {},
   "source": [
    "# Get entity via fragment"
   ]
  },
  {
   "cell_type": "code",
   "execution_count": 7,
   "metadata": {},
   "outputs": [
    {
     "data": {
      "text/plain": [
       "QueryResult({'iri': 'http://uri.interlex.org/base/ilx_0101431', 'curie': 'ILX:0101431', 'label': 'Brain', 'labels': (), 'definition': 'The part of the central nervous system contained within the cranium, comprising the forebrain, midbrain, hindbrain, and metencephalon. It is derived from the anterior part of the embryonic neural tube (or the encephalon). Does not include retina. (CUMBO)The rostral topographic division of the cerebrospinal axis, while the caudal division is the spinal cord. The usual criterion for distinguishing the two divisions in the adult is that the vertebrate brain lies within the skull whereas the spinal cord lies within the spinal (vertebral) column, although this is a difficult problem. (Swanson, 2014)', 'synonyms': ({'id': '1776595', 'tid': '1432', 'literal': 'Encephalon', 'type': '', 'time': '1581619408', 'version': '9'},), 'deprecated': None, 'predicates': {}, 'type': None, 'types': (), '_graph': None, '_blob': None, 'source': <ontquery.plugins.services.interlex.InterLexRemote object at 0x7fd3540f9a90>})"
      ]
     },
     "execution_count": 7,
     "metadata": {},
     "output_type": "execute_result"
    }
   ],
   "source": [
    "ilx_cli.get_entity('ilx_0101431')"
   ]
  },
  {
   "cell_type": "markdown",
   "metadata": {},
   "source": [
    "# Get entity from existing id"
   ]
  },
  {
   "cell_type": "code",
   "execution_count": 8,
   "metadata": {},
   "outputs": [
    {
     "data": {
      "text/plain": [
       "QueryResult({'iri': 'http://uri.interlex.org/base/ilx_0101431', 'curie': 'ILX:0101431', 'label': 'Brain', 'labels': (), 'definition': 'The part of the central nervous system contained within the cranium, comprising the forebrain, midbrain, hindbrain, and metencephalon. It is derived from the anterior part of the embryonic neural tube (or the encephalon). Does not include retina. (CUMBO)The rostral topographic division of the cerebrospinal axis, while the caudal division is the spinal cord. The usual criterion for distinguishing the two divisions in the adult is that the vertebrate brain lies within the skull whereas the spinal cord lies within the spinal (vertebral) column, although this is a difficult problem. (Swanson, 2014)', 'synonyms': ({'id': '1776595', 'tid': '1432', 'literal': 'Encephalon', 'type': '', 'time': '1581619408', 'version': '9'},), 'deprecated': None, 'predicates': {}, 'type': None, 'types': (), '_graph': None, '_blob': None, 'source': <ontquery.plugins.services.interlex.InterLexRemote object at 0x7fd3540f9a90>})"
      ]
     },
     "execution_count": 8,
     "metadata": {},
     "output_type": "execute_result"
    }
   ],
   "source": [
    "ilx_cli.get_entity_from_curie('UBERON:0000955')"
   ]
  },
  {
   "cell_type": "markdown",
   "metadata": {},
   "source": [
    "# Add"
   ]
  },
  {
   "cell_type": "code",
   "execution_count": 9,
   "metadata": {},
   "outputs": [],
   "source": [
    "ilx_cli.add_entity??"
   ]
  },
  {
   "cell_type": "code",
   "execution_count": 10,
   "metadata": {},
   "outputs": [
    {
     "name": "stderr",
     "output_type": "stream",
     "text": [
      "[2020-08-03 22:51:23,766] -  WARNING -       ontquery - interlex_client.py:790  - Annotation: [test_J9WJRL2MRGF7 -> test_K8KAGD9D0QOQ -> sample_value], already exists.\n",
      "[2020-08-03 22:51:25,503] -  WARNING -       ontquery - interlex_client.py:901  - relationship: [test_J9WJRL2MRGF7 -> test_67M6YEYODK3V -> troy_test_term], already exists.\n"
     ]
    },
    {
     "name": "stdout",
     "output_type": "stream",
     "text": [
      "QueryResult({'iri': 'http://uri.interlex.org/base/tmp_0741837', 'curie': 'TMP:0741837', 'label': 'test_J9WJRL2MRGF7', 'labels': (), 'definition': 'Part of the central nervous system', 'synonyms': ({'id': '1780456', 'tid': '663942', 'literal': 'Encephalon', 'type': '', 'time': '1596520282', 'version': '1'}, {'id': '1780457', 'tid': '663942', 'literal': 'Cerebro', 'type': '', 'time': '1596520282', 'version': '1'}), 'deprecated': None, 'predicates': {'comment': 'Cannot live without it'}, 'type': None, 'types': (), '_graph': None, '_blob': None, 'source': <ontquery.plugins.services.interlex.InterLexRemote object at 0x7fd3540f9a90>})\n"
     ]
    }
   ],
   "source": [
    "import string\n",
    "import random\n",
    "def id_generator(size=6, chars=string.ascii_uppercase + string.digits):\n",
    "    return ''.join(random.choice(chars) for _ in range(size))\n",
    "random_label = 'test_' + id_generator(size=12)\n",
    "\n",
    "entity = {\n",
    "    'label': random_label,\n",
    "    'type': 'term',  # broken at the moment NEEDS PDE HARDCODED\n",
    "    'definition': 'Part of the central nervous system',\n",
    "    'comment': 'Cannot live without it',\n",
    "    'subThingOf': 'http://uri.interlex.org/base/tmp_0738397',  # ILX ID for Organ\n",
    "    'synonyms': ['Encephalon', 'Cerebro'],\n",
    "    'predicates': {\n",
    "        'http://uri.interlex.org/base/tmp_0738407': 'sample_value',  # spont firing beta ID | annotation\n",
    "        'http://uri.interlex.org/base/tmp_0738408': 'http://uri.interlex.org/base/tmp_0738406',  # relationship\n",
    "    }\n",
    "}\n",
    "result = ilx_cli.add_entity(**entity)\n",
    "print(result)"
   ]
  },
  {
   "cell_type": "code",
   "execution_count": 11,
   "metadata": {},
   "outputs": [
    {
     "data": {
      "text/plain": [
       "'https://test3.scicrunch.org/api/1'"
      ]
     },
     "execution_count": 11,
     "metadata": {},
     "output_type": "execute_result"
    }
   ],
   "source": [
    "ilx_cli.apiEndpoint"
   ]
  },
  {
   "cell_type": "markdown",
   "metadata": {},
   "source": [
    "# Update"
   ]
  },
  {
   "cell_type": "code",
   "execution_count": 12,
   "metadata": {},
   "outputs": [],
   "source": [
    "ilx_cli.update_entity??"
   ]
  },
  {
   "cell_type": "code",
   "execution_count": 13,
   "metadata": {},
   "outputs": [
    {
     "name": "stderr",
     "output_type": "stream",
     "text": [
      "[2020-08-03 22:51:27,167] -  WARNING -       ontquery - interlex_client.py:790  - Annotation: [label_update -> test_K8KAGD9D0QOQ -> sample_value2], already exists.\n",
      "[2020-08-03 22:51:28,644] -  WARNING -       ontquery - interlex_client.py:901  - relationship: [label_update -> test_67M6YEYODK3V -> test_5YMGMUGWAKY5], already exists.\n"
     ]
    },
    {
     "name": "stdout",
     "output_type": "stream",
     "text": [
      "QueryResult({'iri': 'http://uri.interlex.org/base/tmp_0741837', 'curie': 'TMP:0741837', 'label': 'label_update', 'labels': (), 'definition': 'Updated definition!', 'synonyms': ('Encephalon', 'Cerebro', 'Cerebro_update'), 'deprecated': None, 'predicates': {'comment': 'Cannot live without it UPDATE'}, 'type': None, 'types': (), '_graph': None, '_blob': None, 'source': <ontquery.plugins.services.interlex.InterLexRemote object at 0x7fd3540f9a90>})\n"
     ]
    }
   ],
   "source": [
    "entity = {\n",
    "    'ilx_id': result['curie'],\n",
    "    'label': 'label_update',\n",
    "    # 'type': 'term', # broken at the moment NEEDS PDE HARDCODED\n",
    "    'definition': 'Updated definition!',\n",
    "    'comment': 'Cannot live without it UPDATE',\n",
    "    'subThingOf': 'http://uri.interlex.org/base/tmp_0738406',  # ILX ID for Organ\n",
    "    'add_synonyms': ['Encephalon', 'Cerebro_update'],\n",
    "    'predicates_to_add': {\n",
    "        # DUPCLICATE CHECK\n",
    "        'http://uri.interlex.org/base/tmp_0738407': 'sample_value',  # spont firing beta ID | annotation\n",
    "        'http://uri.interlex.org/base/tmp_0738407': 'sample_value2',  # spont firing beta ID | annotation\n",
    "        'http://uri.interlex.org/base/tmp_0738408': 'http://uri.interlex.org/base/tmp_0738409'  # relationship\n",
    "    },\n",
    "    'predicates_to_delete': {\n",
    "        # DELETE ORIGINAL\n",
    "        'http://uri.interlex.org/base/tmp_0738407': 'sample_value',  # spont firing beta ID | annotation\n",
    "        'http://uri.interlex.org/base/tmp_0738408': 'http://uri.interlex.org/base/tmp_0738409',  # relationship\n",
    "    }\n",
    "}\n",
    "result = ilx_cli.update_entity(**entity)\n",
    "print(result)"
   ]
  }
 ],
 "metadata": {
  "kernelspec": {
   "display_name": "Python 3",
   "language": "python",
   "name": "python3"
  },
  "language_info": {
   "codemirror_mode": {
    "name": "ipython",
    "version": 3
   },
   "file_extension": ".py",
   "mimetype": "text/x-python",
   "name": "python",
   "nbconvert_exporter": "python",
   "pygments_lexer": "ipython3",
   "version": "3.9.0b5"
  }
 },
 "nbformat": 4,
 "nbformat_minor": 4
}
