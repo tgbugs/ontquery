{
 "cells": [
  {
   "cell_type": "markdown",
   "metadata": {},
   "source": [
    "# InterLex Test Client init"
   ]
  },
  {
   "cell_type": "code",
   "execution_count": 1,
   "metadata": {},
   "outputs": [
    {
     "data": {
      "text/plain": [
       "URL('https://test3.scicrunch.org/api/1')"
      ]
     },
     "execution_count": 1,
     "metadata": {},
     "output_type": "execute_result"
    }
   ],
   "source": [
    "from ontquery.interlex import interlex_client\n",
    "ilx_cli = interlex_client('test3.scicrunch.org')\n",
    "ilx_cli.apiEndpoint"
   ]
  },
  {
   "cell_type": "markdown",
   "metadata": {},
   "source": [
    "# InterLex Production Client init. Please test on Test3 server first!"
   ]
  },
  {
   "cell_type": "code",
   "execution_count": 11,
   "metadata": {},
   "outputs": [
    {
     "data": {
      "text/plain": [
       "URL('https://scicrunch.org/api/1')"
      ]
     },
     "execution_count": 11,
     "metadata": {},
     "output_type": "execute_result"
    }
   ],
   "source": [
    "ilx_cli_production = interlex_client('scicrunch.org')\n",
    "ilx_cli_production.apiEndpoint"
   ]
  },
  {
   "cell_type": "markdown",
   "metadata": {},
   "source": [
    "# Check Your User Infro"
   ]
  },
  {
   "cell_type": "code",
   "execution_count": 12,
   "metadata": {},
   "outputs": [
    {
     "data": {
      "text/plain": [
       "{'logged_in': True,\n",
       " 'first_name': 'troy',\n",
       " 'last_name': 'sincomb',\n",
       " 'role': 2,\n",
       " 'communities': [{'portalName': 'odc-sci', 'cid': 97, 'level': 1},\n",
       "  {'portalName': 'SPARC', 'cid': 134, 'level': 1}],\n",
       " 'labs': [{'cid': 97, 'id': 3, 'name': 'SciCrunch @ UCSD'},\n",
       "  {'cid': 97, 'id': 76, 'name': 'tmsincomb-lab'}],\n",
       " 'datasets': [],\n",
       " 'id': 34142}"
      ]
     },
     "execution_count": 12,
     "metadata": {},
     "output_type": "execute_result"
    }
   ],
   "source": [
    "ilx_cli.ilx_cli._get('user/info').json()['data']"
   ]
  },
  {
   "cell_type": "markdown",
   "metadata": {},
   "source": [
    "# Query Exact Label & Syonym Match"
   ]
  },
  {
   "cell_type": "code",
   "execution_count": 4,
   "metadata": {},
   "outputs": [
    {
     "data": {
      "text/plain": [
       "[QueryResult({'iri': 'http://uri.interlex.org/base/ilx_0101431', 'curie': 'ILX:0101431', 'label': 'Brain', 'labels': (), 'definition': 'The part of the central nervous system contained within the cranium, comprising the forebrain, midbrain, hindbrain, and metencephalon. It is derived from the anterior part of the embryonic neural tube (or the encephalon). Does not include retina. (CUMBO)The rostral topographic division of the cerebrospinal axis, while the caudal division is the spinal cord. The usual criterion for distinguishing the two divisions in the adult is that the vertebrate brain lies within the skull whereas the spinal cord lies within the spinal (vertebral) column, although this is a difficult problem. (Swanson, 2014)', 'synonyms': ({'literal': 'Encephalon', 'type': ''},), 'deprecated': None, 'predicates': {}, 'type': None, 'types': (), '_graph': None, 'source': <ontquery.plugins.services.interlex.InterLexRemote object at 0x7fae3df19640>})]"
      ]
     },
     "execution_count": 4,
     "metadata": {},
     "output_type": "execute_result"
    }
   ],
   "source": [
    "# Exact Search with only 1 result back\n",
    "list(ilx_cli.query(label='brain'))"
   ]
  },
  {
   "cell_type": "markdown",
   "metadata": {},
   "source": [
    "# Query All Fields"
   ]
  },
  {
   "cell_type": "code",
   "execution_count": 5,
   "metadata": {},
   "outputs": [
    {
     "data": {
      "text/plain": [
       "[QueryResult({'iri': 'http://uri.interlex.org/base/ilx_0101431', 'curie': 'ILX:0101431', 'label': 'Brain', 'labels': (), 'definition': 'The part of the central nervous system contained within the cranium, comprising the forebrain, midbrain, hindbrain, and metencephalon. It is derived from the anterior part of the embryonic neural tube (or the encephalon). Does not include retina. (CUMBO)The rostral topographic division of the cerebrospinal axis, while the caudal division is the spinal cord. The usual criterion for distinguishing the two divisions in the adult is that the vertebrate brain lies within the skull whereas the spinal cord lies within the spinal (vertebral) column, although this is a difficult problem. (Swanson, 2014)', 'synonyms': ({'literal': 'Encephalon', 'type': ''},), 'deprecated': None, 'predicates': {}, 'type': None, 'types': (), '_graph': None, 'source': <ontquery.plugins.services.interlex.InterLexRemote object at 0x7fae3df19640>}),\n",
       " QueryResult({'iri': 'http://uri.interlex.org/base/ilx_0506443', 'curie': 'ILX:0506443', 'label': 'Brain Embolism', 'labels': (), 'definition': '', 'synonyms': (), 'deprecated': None, 'predicates': {}, 'type': None, 'types': (), '_graph': None, 'source': <ontquery.plugins.services.interlex.InterLexRemote object at 0x7fae3df19640>}),\n",
       " QueryResult({'iri': 'http://uri.interlex.org/base/ilx_0400525', 'curie': 'ILX:0400525', 'label': 'Brain Thrombus', 'labels': (), 'definition': '', 'synonyms': (), 'deprecated': None, 'predicates': {}, 'type': None, 'types': (), '_graph': None, 'source': <ontquery.plugins.services.interlex.InterLexRemote object at 0x7fae3df19640>}),\n",
       " QueryResult({'iri': 'http://uri.interlex.org/base/ilx_0101434', 'curie': 'ILX:0101434', 'label': 'Brain Ischemia', 'labels': (), 'definition': 'Localized reduction of blood flow to brain tissue due to arterial obstruction or systemic hypoperfusion. This frequently occurs in conjunction with brain hypoxia ( HYPOXIA, BRAIN). Prolonged ischemia is associated with BRAIN INFARCTION (MeSH).', 'synonyms': ({'literal': 'Ischemic Brain Injury', 'type': ''}, {'literal': 'Ischemic Encephalopathy', 'type': ''}), 'deprecated': None, 'predicates': {}, 'type': None, 'types': (), '_graph': None, 'source': <ontquery.plugins.services.interlex.InterLexRemote object at 0x7fae3df19640>}),\n",
       " QueryResult({'iri': 'http://uri.interlex.org/base/ilx_0461406', 'curie': 'ILX:0461406', 'label': 'Brain Death', 'labels': (), 'definition': 'A state of prolonged irreversible cessation of all brain activity, including lower brain stem function with the complete absence of voluntary movements, responses to stimuli, brain stem reflexes, and spontaneous respirations. Reversible conditions which mimic this clinical state (e.g., sedative overdose, hypothermia, etc.) are excluded prior to making the determination of brain death. (From Adams et al., Principles of Neurology, 6th ed, pp348-9)', 'synonyms': (), 'deprecated': None, 'predicates': {}, 'type': None, 'types': (), '_graph': None, 'source': <ontquery.plugins.services.interlex.InterLexRemote object at 0x7fae3df19640>}),\n",
       " QueryResult({'iri': 'http://uri.interlex.org/base/ilx_0732724', 'curie': 'ILX:0732724', 'label': 'embryonic brain', 'labels': (), 'definition': 'Brain of the embryo.', 'synonyms': (), 'deprecated': None, 'predicates': {}, 'type': None, 'types': (), '_graph': None, 'source': <ontquery.plugins.services.interlex.InterLexRemote object at 0x7fae3df19640>}),\n",
       " QueryResult({'iri': 'http://uri.interlex.org/base/ilx_0733041', 'curie': 'ILX:0733041', 'label': 'brain endothelium', 'labels': (), 'definition': 'Vascular endothelium found in blood vessels of the blood-brain-barrier.', 'synonyms': ({'literal': 'cerebromicrovascular endothelium', 'type': 'oboInOwl:hasRelatedSynonym'},), 'deprecated': None, 'predicates': {}, 'type': None, 'types': (), '_graph': None, 'source': <ontquery.plugins.services.interlex.InterLexRemote object at 0x7fae3df19640>}),\n",
       " QueryResult({'iri': 'http://uri.interlex.org/base/ilx_0506479', 'curie': 'ILX:0506479', 'label': 'Brain Thrombosis', 'labels': (), 'definition': '', 'synonyms': (), 'deprecated': None, 'predicates': {}, 'type': None, 'types': (), '_graph': None, 'source': <ontquery.plugins.services.interlex.InterLexRemote object at 0x7fae3df19640>}),\n",
       " QueryResult({'iri': 'http://uri.interlex.org/base/ilx_0489948', 'curie': 'ILX:0489948', 'label': 'Brain Waves', 'labels': (), 'definition': 'Wave-like oscillations of electric potential between parts of the brain recorded by EEG.', 'synonyms': (), 'deprecated': None, 'predicates': {}, 'type': None, 'types': (), '_graph': None, 'source': <ontquery.plugins.services.interlex.InterLexRemote object at 0x7fae3df19640>}),\n",
       " QueryResult({'iri': 'http://uri.interlex.org/base/ilx_0730602', 'curie': 'ILX:0730602', 'label': 'brain ventricle', 'labels': (), 'definition': 'one of the system of communicating cavities in the brain that are continuous with the central canal of the spinal cord, that like it are derived from the medullary canal of the embryo, that are lined with an epithelial ependyma, and that contain a serous fluid', 'synonyms': ({'literal': 'cerebral ventricle', 'type': 'oboInOwl:hasExactSynonym'}, {'literal': 'region of ventricular system of brain', 'type': 'oboInOwl:hasExactSynonym'}, {'literal': 'brain ventricles', 'type': 'oboInOwl:hasExactSynonym'}), 'deprecated': None, 'predicates': {}, 'type': None, 'types': (), '_graph': None, 'source': <ontquery.plugins.services.interlex.InterLexRemote object at 0x7fae3df19640>})]"
      ]
     },
     "execution_count": 5,
     "metadata": {},
     "output_type": "execute_result"
    }
   ],
   "source": [
    "# General Search through elasticsearch & SciGraph\n",
    "list(ilx_cli.query(term='brain'))"
   ]
  },
  {
   "cell_type": "markdown",
   "metadata": {},
   "source": [
    "# GET Entity via ILX ID"
   ]
  },
  {
   "cell_type": "code",
   "execution_count": 5,
   "metadata": {},
   "outputs": [
    {
     "data": {
      "text/plain": [
       "QueryResult({'iri': 'http://uri.interlex.org/base/ilx_0101431', 'curie': 'ILX:0101431', 'label': 'Brain', 'labels': (), 'definition': 'The part of the central nervous system contained within the cranium, comprising the forebrain, midbrain, hindbrain, and metencephalon. It is derived from the anterior part of the embryonic neural tube (or the encephalon). Does not include retina. (CUMBO)The rostral topographic division of the cerebrospinal axis, while the caudal division is the spinal cord. The usual criterion for distinguishing the two divisions in the adult is that the vertebrate brain lies within the skull whereas the spinal cord lies within the spinal (vertebral) column, although this is a difficult problem. (Swanson, 2014)', 'synonyms': ({'id': '1776595', 'tid': '1432', 'literal': 'Encephalon', 'type': '', 'time': '1581619408', 'version': '9'},), 'deprecated': None, 'predicates': {}, 'type': None, 'types': (), '_graph': None, 'source': <ontquery.plugins.services.interlex.InterLexRemote object at 0x7ff14023e7f0>})"
      ]
     },
     "execution_count": 5,
     "metadata": {},
     "output_type": "execute_result"
    }
   ],
   "source": [
    "ilx_cli.get_entity('ilx_0101431')"
   ]
  },
  {
   "cell_type": "markdown",
   "metadata": {},
   "source": [
    "# GET Entity via Existing ID"
   ]
  },
  {
   "cell_type": "code",
   "execution_count": 2,
   "metadata": {},
   "outputs": [
    {
     "data": {
      "text/plain": [
       "QueryResult({'iri': 'http://uri.interlex.org/base/ilx_0101431', 'curie': 'ILX:0101431', 'label': 'Brain', 'labels': (), 'definition': 'The part of the central nervous system contained within the cranium, comprising the forebrain, midbrain, hindbrain, and metencephalon. It is derived from the anterior part of the embryonic neural tube (or the encephalon). Does not include retina. (CUMBO)The rostral topographic division of the cerebrospinal axis, while the caudal division is the spinal cord. The usual criterion for distinguishing the two divisions in the adult is that the vertebrate brain lies within the skull whereas the spinal cord lies within the spinal (vertebral) column, although this is a difficult problem. (Swanson, 2014)', 'synonyms': ({'id': '1776595', 'tid': '1432', 'literal': 'Encephalon', 'type': '', 'time': '1581619408', 'version': '9'},), 'deprecated': None, 'predicates': {}, 'type': None, 'types': (), '_graph': None, 'source': <ontquery.plugins.services.interlex.InterLexRemote object at 0x7ffa6927b340>})"
      ]
     },
     "execution_count": 2,
     "metadata": {},
     "output_type": "execute_result"
    }
   ],
   "source": [
    "ilx_cli.get_entity_from_curie('UBERON:0000955')"
   ]
  },
  {
   "cell_type": "markdown",
   "metadata": {},
   "source": [
    "# ADD"
   ]
  },
  {
   "cell_type": "code",
   "execution_count": 11,
   "metadata": {},
   "outputs": [
    {
     "data": {
      "text/plain": [
       "\u001b[0;31mSignature:\u001b[0m\n",
       "\u001b[0milx_cli\u001b[0m\u001b[0;34m.\u001b[0m\u001b[0madd_entity\u001b[0m\u001b[0;34m(\u001b[0m\u001b[0;34m\u001b[0m\n",
       "\u001b[0;34m\u001b[0m    \u001b[0mlabel\u001b[0m\u001b[0;34m:\u001b[0m \u001b[0mstr\u001b[0m\u001b[0;34m,\u001b[0m\u001b[0;34m\u001b[0m\n",
       "\u001b[0;34m\u001b[0m    \u001b[0mtype\u001b[0m\u001b[0;34m:\u001b[0m \u001b[0mstr\u001b[0m\u001b[0;34m,\u001b[0m\u001b[0;34m\u001b[0m\n",
       "\u001b[0;34m\u001b[0m    \u001b[0msubThingOf\u001b[0m\u001b[0;34m:\u001b[0m \u001b[0mstr\u001b[0m\u001b[0;34m,\u001b[0m\u001b[0;34m\u001b[0m\n",
       "\u001b[0;34m\u001b[0m    \u001b[0mdefinition\u001b[0m\u001b[0;34m:\u001b[0m \u001b[0mstr\u001b[0m \u001b[0;34m=\u001b[0m \u001b[0;32mNone\u001b[0m\u001b[0;34m,\u001b[0m\u001b[0;34m\u001b[0m\n",
       "\u001b[0;34m\u001b[0m    \u001b[0mcomment\u001b[0m\u001b[0;34m:\u001b[0m \u001b[0mstr\u001b[0m \u001b[0;34m=\u001b[0m \u001b[0;32mNone\u001b[0m\u001b[0;34m,\u001b[0m\u001b[0;34m\u001b[0m\n",
       "\u001b[0;34m\u001b[0m    \u001b[0mcid\u001b[0m\u001b[0;34m:\u001b[0m \u001b[0mUnion\u001b[0m\u001b[0;34m[\u001b[0m\u001b[0mstr\u001b[0m\u001b[0;34m,\u001b[0m \u001b[0mint\u001b[0m\u001b[0;34m]\u001b[0m \u001b[0;34m=\u001b[0m \u001b[0;32mNone\u001b[0m\u001b[0;34m,\u001b[0m\u001b[0;34m\u001b[0m\n",
       "\u001b[0;34m\u001b[0m    \u001b[0msynonyms\u001b[0m\u001b[0;34m:\u001b[0m \u001b[0mUnion\u001b[0m\u001b[0;34m[\u001b[0m\u001b[0mList\u001b[0m\u001b[0;34m[\u001b[0m\u001b[0mdict\u001b[0m\u001b[0;34m]\u001b[0m\u001b[0;34m,\u001b[0m \u001b[0mList\u001b[0m\u001b[0;34m[\u001b[0m\u001b[0mstr\u001b[0m\u001b[0;34m]\u001b[0m\u001b[0;34m]\u001b[0m \u001b[0;34m=\u001b[0m \u001b[0;32mNone\u001b[0m\u001b[0;34m,\u001b[0m\u001b[0;34m\u001b[0m\n",
       "\u001b[0;34m\u001b[0m    \u001b[0mexisting_ids\u001b[0m\u001b[0;34m:\u001b[0m \u001b[0mList\u001b[0m\u001b[0;34m[\u001b[0m\u001b[0mdict\u001b[0m\u001b[0;34m]\u001b[0m \u001b[0;34m=\u001b[0m \u001b[0;32mNone\u001b[0m\u001b[0;34m,\u001b[0m\u001b[0;34m\u001b[0m\n",
       "\u001b[0;34m\u001b[0m    \u001b[0mpredicates\u001b[0m\u001b[0;34m:\u001b[0m \u001b[0mdict\u001b[0m \u001b[0;34m=\u001b[0m \u001b[0;32mNone\u001b[0m\u001b[0;34m,\u001b[0m\u001b[0;34m\u001b[0m\n",
       "\u001b[0;34m\u001b[0m\u001b[0;34m)\u001b[0m \u001b[0;34m->\u001b[0m \u001b[0montquery\u001b[0m\u001b[0;34m.\u001b[0m\u001b[0mutils\u001b[0m\u001b[0;34m.\u001b[0m\u001b[0mQueryResult\u001b[0m\u001b[0;34m\u001b[0m\u001b[0;34m\u001b[0m\u001b[0m\n",
       "\u001b[0;31mDocstring:\u001b[0m\n",
       "Add InterLex entity\n",
       "\n",
       ":param label: Preferred name of entity.\n",
       ":param type: Any of the following: term, TermSet, cde, pde, fde, relationship, annotation.\n",
       ":param cid: Community ID\n",
       ":param definition: Entities official definition.\n",
       ":param comment: A foot note regarding either the interpretation of the data or the data itself\n",
       ":param subThingOf: The ilx_id of the parent of this entity. Example: Organ is a superclass to Brain\n",
       ":param synonyms: Alternate names of the label.\n",
       ":param existing_ids: Alternate/source ontological iri/curies. Can only be one preferred ID.\n",
       ":param predicates: Annotations and/or Relationships to be added.\n",
       ":return: requests.Response of insert or query from existing.\n",
       "\n",
       ">>> self.add_entity(                 label='Brain',                 type='term',  # options: term, pde, fde, cde, annotation, or relationship                 definition='Official definition for entity.',                 comment='Additional casual notes for the next person.',                 superclass='ilx_1234567',                 synonyms=[{                     'literal': 'Brains',  # label of synonym                     'type': 'obo:hasExactSynonym',  # Often predicate defined in ref ontology.                 }],                 existing_ids=[{                     'iri': 'http://purl.obolibrary.org/obo/UBERON_0000955',                     'curie': 'UBERON:0000955',  # Obeys prefix:id structure.                     'preferred': '1',  # Can be 0 or 1 with a type of either str or int.                 }],                 predicates={                     # Annotation                     'http://uri.interlex.org/base/ilx_0101432': 'sample_annotation_value',                     # Relationship                     'http://uri.interlex.org/base/ilx_0101435': 'http://uri.interlex.org/base/ilx_0101434',                 },             )\n",
       "\u001b[0;31mSource:\u001b[0m   \n",
       "    \u001b[0;32mdef\u001b[0m \u001b[0madd_entity\u001b[0m\u001b[0;34m(\u001b[0m\u001b[0mself\u001b[0m\u001b[0;34m,\u001b[0m\u001b[0;34m\u001b[0m\n",
       "\u001b[0;34m\u001b[0m                   \u001b[0mlabel\u001b[0m\u001b[0;34m:\u001b[0m \u001b[0mstr\u001b[0m\u001b[0;34m,\u001b[0m\u001b[0;34m\u001b[0m\n",
       "\u001b[0;34m\u001b[0m                   \u001b[0mtype\u001b[0m\u001b[0;34m:\u001b[0m \u001b[0mstr\u001b[0m\u001b[0;34m,\u001b[0m\u001b[0;34m\u001b[0m\n",
       "\u001b[0;34m\u001b[0m                   \u001b[0msubThingOf\u001b[0m\u001b[0;34m:\u001b[0m \u001b[0mstr\u001b[0m\u001b[0;34m,\u001b[0m\u001b[0;34m\u001b[0m\n",
       "\u001b[0;34m\u001b[0m                   \u001b[0mdefinition\u001b[0m\u001b[0;34m:\u001b[0m \u001b[0mstr\u001b[0m \u001b[0;34m=\u001b[0m \u001b[0;32mNone\u001b[0m\u001b[0;34m,\u001b[0m\u001b[0;34m\u001b[0m\n",
       "\u001b[0;34m\u001b[0m                   \u001b[0mcomment\u001b[0m\u001b[0;34m:\u001b[0m \u001b[0mstr\u001b[0m \u001b[0;34m=\u001b[0m \u001b[0;32mNone\u001b[0m\u001b[0;34m,\u001b[0m\u001b[0;34m\u001b[0m\n",
       "\u001b[0;34m\u001b[0m                   \u001b[0mcid\u001b[0m\u001b[0;34m:\u001b[0m \u001b[0mUnion\u001b[0m\u001b[0;34m[\u001b[0m\u001b[0mstr\u001b[0m\u001b[0;34m,\u001b[0m \u001b[0mint\u001b[0m\u001b[0;34m]\u001b[0m \u001b[0;34m=\u001b[0m \u001b[0;32mNone\u001b[0m\u001b[0;34m,\u001b[0m\u001b[0;34m\u001b[0m\n",
       "\u001b[0;34m\u001b[0m                   \u001b[0msynonyms\u001b[0m\u001b[0;34m:\u001b[0m \u001b[0mUnion\u001b[0m\u001b[0;34m[\u001b[0m\u001b[0mList\u001b[0m\u001b[0;34m[\u001b[0m\u001b[0mdict\u001b[0m\u001b[0;34m]\u001b[0m\u001b[0;34m,\u001b[0m \u001b[0mList\u001b[0m\u001b[0;34m[\u001b[0m\u001b[0mstr\u001b[0m\u001b[0;34m]\u001b[0m\u001b[0;34m]\u001b[0m \u001b[0;34m=\u001b[0m \u001b[0;32mNone\u001b[0m\u001b[0;34m,\u001b[0m\u001b[0;34m\u001b[0m\n",
       "\u001b[0;34m\u001b[0m                   \u001b[0mexisting_ids\u001b[0m\u001b[0;34m:\u001b[0m \u001b[0mList\u001b[0m\u001b[0;34m[\u001b[0m\u001b[0mdict\u001b[0m\u001b[0;34m]\u001b[0m \u001b[0;34m=\u001b[0m \u001b[0;32mNone\u001b[0m\u001b[0;34m,\u001b[0m\u001b[0;34m\u001b[0m\n",
       "\u001b[0;34m\u001b[0m                   \u001b[0mpredicates\u001b[0m\u001b[0;34m:\u001b[0m \u001b[0mdict\u001b[0m \u001b[0;34m=\u001b[0m \u001b[0;32mNone\u001b[0m\u001b[0;34m,\u001b[0m\u001b[0;34m)\u001b[0m \u001b[0;34m->\u001b[0m \u001b[0mQueryResult\u001b[0m\u001b[0;34m:\u001b[0m\u001b[0;34m\u001b[0m\n",
       "\u001b[0;34m\u001b[0m        \u001b[0;34m\"\"\" Add InterLex entity\u001b[0m\n",
       "\u001b[0;34m\u001b[0m\n",
       "\u001b[0;34m        :param label: Preferred name of entity.\u001b[0m\n",
       "\u001b[0;34m        :param type: Any of the following: term, TermSet, cde, pde, fde, relationship, annotation.\u001b[0m\n",
       "\u001b[0;34m        :param cid: Community ID\u001b[0m\n",
       "\u001b[0;34m        :param definition: Entities official definition.\u001b[0m\n",
       "\u001b[0;34m        :param comment: A foot note regarding either the interpretation of the data or the data itself\u001b[0m\n",
       "\u001b[0;34m        :param subThingOf: The ilx_id of the parent of this entity. Example: Organ is a superclass to Brain\u001b[0m\n",
       "\u001b[0;34m        :param synonyms: Alternate names of the label.\u001b[0m\n",
       "\u001b[0;34m        :param existing_ids: Alternate/source ontological iri/curies. Can only be one preferred ID.\u001b[0m\n",
       "\u001b[0;34m        :param predicates: Annotations and/or Relationships to be added.\u001b[0m\n",
       "\u001b[0;34m        :return: requests.Response of insert or query from existing.\u001b[0m\n",
       "\u001b[0;34m\u001b[0m\n",
       "\u001b[0;34m        >>> self.add_entity( \\\u001b[0m\n",
       "\u001b[0;34m                label='Brain', \\\u001b[0m\n",
       "\u001b[0;34m                type='term',  # options: term, pde, fde, cde, annotation, or relationship \\\u001b[0m\n",
       "\u001b[0;34m                definition='Official definition for entity.', \\\u001b[0m\n",
       "\u001b[0;34m                comment='Additional casual notes for the next person.', \\\u001b[0m\n",
       "\u001b[0;34m                superclass='ilx_1234567', \\\u001b[0m\n",
       "\u001b[0;34m                synonyms=[{ \\\u001b[0m\n",
       "\u001b[0;34m                    'literal': 'Brains',  # label of synonym \\\u001b[0m\n",
       "\u001b[0;34m                    'type': 'obo:hasExactSynonym',  # Often predicate defined in ref ontology. \\\u001b[0m\n",
       "\u001b[0;34m                }], \\\u001b[0m\n",
       "\u001b[0;34m                existing_ids=[{ \\\u001b[0m\n",
       "\u001b[0;34m                    'iri': 'http://purl.obolibrary.org/obo/UBERON_0000955', \\\u001b[0m\n",
       "\u001b[0;34m                    'curie': 'UBERON:0000955',  # Obeys prefix:id structure. \\\u001b[0m\n",
       "\u001b[0;34m                    'preferred': '1',  # Can be 0 or 1 with a type of either str or int. \\\u001b[0m\n",
       "\u001b[0;34m                }], \\\u001b[0m\n",
       "\u001b[0;34m                predicates={ \\\u001b[0m\n",
       "\u001b[0;34m                    # Annotation \\\u001b[0m\n",
       "\u001b[0;34m                    'http://uri.interlex.org/base/ilx_0101432': 'sample_annotation_value', \\\u001b[0m\n",
       "\u001b[0;34m                    # Relationship \\\u001b[0m\n",
       "\u001b[0;34m                    'http://uri.interlex.org/base/ilx_0101435': 'http://uri.interlex.org/base/ilx_0101434', \\\u001b[0m\n",
       "\u001b[0;34m                }, \\\u001b[0m\n",
       "\u001b[0;34m            )\u001b[0m\n",
       "\u001b[0;34m        \"\"\"\u001b[0m\u001b[0;34m\u001b[0m\n",
       "\u001b[0;34m\u001b[0m        \u001b[0;32mif\u001b[0m \u001b[0mself\u001b[0m\u001b[0;34m.\u001b[0m\u001b[0mreadonly\u001b[0m\u001b[0;34m:\u001b[0m\u001b[0;34m\u001b[0m\n",
       "\u001b[0;34m\u001b[0m            \u001b[0;32mraise\u001b[0m \u001b[0mexc\u001b[0m\u001b[0;34m.\u001b[0m\u001b[0mReadOnlyError\u001b[0m\u001b[0;34m(\u001b[0m\u001b[0;34m'InterLexRemote is in readonly mode.'\u001b[0m\u001b[0;34m)\u001b[0m\u001b[0;34m\u001b[0m\n",
       "\u001b[0;34m\u001b[0m\u001b[0;34m\u001b[0m\n",
       "\u001b[0;34m\u001b[0m        \u001b[0mresp\u001b[0m \u001b[0;34m=\u001b[0m \u001b[0mself\u001b[0m\u001b[0;34m.\u001b[0m\u001b[0milx_cli\u001b[0m\u001b[0;34m.\u001b[0m\u001b[0madd_entity\u001b[0m\u001b[0;34m(\u001b[0m\u001b[0;34m\u001b[0m\n",
       "\u001b[0;34m\u001b[0m            \u001b[0mlabel\u001b[0m\u001b[0;34m=\u001b[0m\u001b[0mlabel\u001b[0m\u001b[0;34m,\u001b[0m\u001b[0;34m\u001b[0m\n",
       "\u001b[0;34m\u001b[0m            \u001b[0mtype\u001b[0m\u001b[0;34m=\u001b[0m\u001b[0mtype\u001b[0m\u001b[0;34m,\u001b[0m\u001b[0;34m\u001b[0m\n",
       "\u001b[0;34m\u001b[0m            \u001b[0mdefinition\u001b[0m\u001b[0;34m=\u001b[0m\u001b[0mdefinition\u001b[0m\u001b[0;34m,\u001b[0m\u001b[0;34m\u001b[0m\n",
       "\u001b[0;34m\u001b[0m            \u001b[0mcomment\u001b[0m\u001b[0;34m=\u001b[0m\u001b[0mcomment\u001b[0m\u001b[0;34m,\u001b[0m\u001b[0;34m\u001b[0m\n",
       "\u001b[0;34m\u001b[0m            \u001b[0msynonyms\u001b[0m\u001b[0;34m=\u001b[0m\u001b[0msynonyms\u001b[0m\u001b[0;34m,\u001b[0m\u001b[0;34m\u001b[0m\n",
       "\u001b[0;34m\u001b[0m            \u001b[0mcid\u001b[0m\u001b[0;34m=\u001b[0m\u001b[0mcid\u001b[0m\u001b[0;34m,\u001b[0m\u001b[0;34m\u001b[0m\n",
       "\u001b[0;34m\u001b[0m            \u001b[0msuperclass\u001b[0m\u001b[0;34m=\u001b[0m\u001b[0msubThingOf\u001b[0m\u001b[0;34m,\u001b[0m\u001b[0;34m\u001b[0m\n",
       "\u001b[0;34m\u001b[0m            \u001b[0mexisting_ids\u001b[0m\u001b[0;34m=\u001b[0m\u001b[0mexisting_ids\u001b[0m\u001b[0;34m,\u001b[0m\u001b[0;34m\u001b[0m\n",
       "\u001b[0;34m\u001b[0m        \u001b[0;34m)\u001b[0m\u001b[0;34m\u001b[0m\n",
       "\u001b[0;34m\u001b[0m        \u001b[0mout_predicates\u001b[0m \u001b[0;34m=\u001b[0m \u001b[0;34m{\u001b[0m\u001b[0;34m}\u001b[0m\u001b[0;34m\u001b[0m\n",
       "\u001b[0;34m\u001b[0m\u001b[0;34m\u001b[0m\n",
       "\u001b[0;34m\u001b[0m        \u001b[0;32mif\u001b[0m \u001b[0mpredicates\u001b[0m\u001b[0;34m:\u001b[0m\u001b[0;34m\u001b[0m\n",
       "\u001b[0;34m\u001b[0m            \u001b[0mtresp\u001b[0m \u001b[0;34m=\u001b[0m \u001b[0mself\u001b[0m\u001b[0;34m.\u001b[0m\u001b[0madd_predicates\u001b[0m\u001b[0;34m(\u001b[0m\u001b[0milx_curieoriri\u001b[0m\u001b[0;34m=\u001b[0m\u001b[0mresp\u001b[0m\u001b[0;34m[\u001b[0m\u001b[0;34m'ilx'\u001b[0m\u001b[0;34m]\u001b[0m\u001b[0;34m,\u001b[0m \u001b[0mpredicates\u001b[0m\u001b[0;34m=\u001b[0m\u001b[0mpredicates\u001b[0m\u001b[0;34m)\u001b[0m\u001b[0;34m\u001b[0m\n",
       "\u001b[0;34m\u001b[0m            \u001b[0mresp\u001b[0m\u001b[0;34m[\u001b[0m\u001b[0;34m'annotations'\u001b[0m\u001b[0;34m]\u001b[0m \u001b[0;34m=\u001b[0m \u001b[0mtresp\u001b[0m  \u001b[0;31m# TODO: Creates a record for annotations in term_versions table\u001b[0m\u001b[0;34m\u001b[0m\n",
       "\u001b[0;34m\u001b[0m\u001b[0;34m\u001b[0m\n",
       "\u001b[0;34m\u001b[0m        \u001b[0;32mif\u001b[0m \u001b[0;34m'comment'\u001b[0m \u001b[0;32min\u001b[0m \u001b[0mresp\u001b[0m\u001b[0;34m:\u001b[0m  \u001b[0;31m# filtering of missing fields is done in the client\u001b[0m\u001b[0;34m\u001b[0m\n",
       "\u001b[0;34m\u001b[0m            \u001b[0mout_predicates\u001b[0m\u001b[0;34m[\u001b[0m\u001b[0;34m'comment'\u001b[0m\u001b[0;34m]\u001b[0m \u001b[0;34m=\u001b[0m \u001b[0mresp\u001b[0m\u001b[0;34m[\u001b[0m\u001b[0;34m'comment'\u001b[0m\u001b[0;34m]\u001b[0m\u001b[0;34m\u001b[0m\n",
       "\u001b[0;34m\u001b[0m\u001b[0;34m\u001b[0m\n",
       "\u001b[0;34m\u001b[0m        \u001b[0;32mreturn\u001b[0m \u001b[0mQueryResult\u001b[0m\u001b[0;34m(\u001b[0m\u001b[0;34m\u001b[0m\n",
       "\u001b[0;34m\u001b[0m            \u001b[0mquery_args\u001b[0m\u001b[0;34m=\u001b[0m\u001b[0;34m{\u001b[0m\u001b[0;34m}\u001b[0m\u001b[0;34m,\u001b[0m\u001b[0;34m\u001b[0m\n",
       "\u001b[0;34m\u001b[0m            \u001b[0miri\u001b[0m\u001b[0;34m=\u001b[0m\u001b[0;34m'http://uri.interlex.org/base/'\u001b[0m \u001b[0;34m+\u001b[0m \u001b[0mresp\u001b[0m\u001b[0;34m[\u001b[0m\u001b[0;34m'ilx'\u001b[0m\u001b[0;34m]\u001b[0m\u001b[0;34m,\u001b[0m\u001b[0;34m\u001b[0m\n",
       "\u001b[0;34m\u001b[0m            \u001b[0mcurie\u001b[0m\u001b[0;34m=\u001b[0m\u001b[0mresp\u001b[0m\u001b[0;34m[\u001b[0m\u001b[0;34m'ilx'\u001b[0m\u001b[0;34m]\u001b[0m\u001b[0;34m.\u001b[0m\u001b[0mreplace\u001b[0m\u001b[0;34m(\u001b[0m\u001b[0;34m'ilx_'\u001b[0m\u001b[0;34m,\u001b[0m \u001b[0;34m'ILX:'\u001b[0m\u001b[0;34m)\u001b[0m\u001b[0;34m.\u001b[0m\u001b[0mreplace\u001b[0m\u001b[0;34m(\u001b[0m\u001b[0;34m'tmp_'\u001b[0m\u001b[0;34m,\u001b[0m \u001b[0;34m'TMP:'\u001b[0m\u001b[0;34m)\u001b[0m\u001b[0;34m,\u001b[0m\u001b[0;34m\u001b[0m\n",
       "\u001b[0;34m\u001b[0m            \u001b[0mlabel\u001b[0m\u001b[0;34m=\u001b[0m\u001b[0mresp\u001b[0m\u001b[0;34m[\u001b[0m\u001b[0;34m'label'\u001b[0m\u001b[0;34m]\u001b[0m\u001b[0;34m,\u001b[0m\u001b[0;34m\u001b[0m\n",
       "\u001b[0;34m\u001b[0m            \u001b[0mlabels\u001b[0m\u001b[0;34m=\u001b[0m\u001b[0mtuple\u001b[0m\u001b[0;34m(\u001b[0m\u001b[0;34m)\u001b[0m\u001b[0;34m,\u001b[0m\u001b[0;34m\u001b[0m\n",
       "\u001b[0;34m\u001b[0m            \u001b[0;31m# abbrev=None,  # TODO\u001b[0m\u001b[0;34m\u001b[0m\n",
       "\u001b[0;34m\u001b[0m            \u001b[0;31m# acronym=None,  # TODO\u001b[0m\u001b[0;34m\u001b[0m\n",
       "\u001b[0;34m\u001b[0m            \u001b[0mdefinition\u001b[0m\u001b[0;34m=\u001b[0m\u001b[0mresp\u001b[0m\u001b[0;34m.\u001b[0m\u001b[0mget\u001b[0m\u001b[0;34m(\u001b[0m\u001b[0;34m'definition'\u001b[0m\u001b[0;34m,\u001b[0m \u001b[0;32mNone\u001b[0m\u001b[0;34m)\u001b[0m\u001b[0;34m,\u001b[0m\u001b[0;34m\u001b[0m\n",
       "\u001b[0;34m\u001b[0m            \u001b[0msynonyms\u001b[0m\u001b[0;34m=\u001b[0m\u001b[0mtuple\u001b[0m\u001b[0;34m(\u001b[0m\u001b[0mresp\u001b[0m\u001b[0;34m.\u001b[0m\u001b[0mget\u001b[0m\u001b[0;34m(\u001b[0m\u001b[0;34m'synonyms'\u001b[0m\u001b[0;34m,\u001b[0m \u001b[0mtuple\u001b[0m\u001b[0;34m(\u001b[0m\u001b[0;34m)\u001b[0m\u001b[0;34m)\u001b[0m\u001b[0;34m)\u001b[0m\u001b[0;34m,\u001b[0m\u001b[0;34m\u001b[0m\n",
       "\u001b[0;34m\u001b[0m            \u001b[0;31m# deprecated=None,\u001b[0m\u001b[0;34m\u001b[0m\n",
       "\u001b[0;34m\u001b[0m            \u001b[0;31m# prefix=None,\u001b[0m\u001b[0;34m\u001b[0m\n",
       "\u001b[0;34m\u001b[0m            \u001b[0;31m# category=None,\u001b[0m\u001b[0;34m\u001b[0m\n",
       "\u001b[0;34m\u001b[0m            \u001b[0mpredicates\u001b[0m\u001b[0;34m=\u001b[0m\u001b[0mout_predicates\u001b[0m\u001b[0;34m,\u001b[0m\u001b[0;34m\u001b[0m\n",
       "\u001b[0;34m\u001b[0m            \u001b[0;31m# _graph=None,\u001b[0m\u001b[0;34m\u001b[0m\n",
       "\u001b[0;34m\u001b[0m            \u001b[0msource\u001b[0m\u001b[0;34m=\u001b[0m\u001b[0mself\u001b[0m\u001b[0;34m,\u001b[0m\u001b[0;34m\u001b[0m\n",
       "\u001b[0;34m\u001b[0m        \u001b[0;34m)\u001b[0m\u001b[0;34m\u001b[0m\u001b[0;34m\u001b[0m\u001b[0m\n",
       "\u001b[0;31mFile:\u001b[0m      ~/Dropbox/git/ontquery/ontquery/plugins/services/interlex.py\n",
       "\u001b[0;31mType:\u001b[0m      method\n"
      ]
     },
     "metadata": {},
     "output_type": "display_data"
    }
   ],
   "source": [
    "ilx_cli.add_entity??"
   ]
  },
  {
   "cell_type": "code",
   "execution_count": 14,
   "metadata": {},
   "outputs": [
    {
     "name": "stderr",
     "output_type": "stream",
     "text": [
      "[2020-07-31 16:18:03,137] -  WARNING -       ontquery - interlex_client.py:790  - Annotation: [test_6E73DXMG8AWZ -> test_K8KAGD9D0QOQ -> sample_value], already exists.\n",
      "[2020-07-31 16:18:05,384] -  WARNING -       ontquery - interlex_client.py:901  - relationship: [test_6E73DXMG8AWZ -> test_67M6YEYODK3V -> troy_test_term], already exists.\n"
     ]
    },
    {
     "name": "stdout",
     "output_type": "stream",
     "text": [
      "QueryResult({'iri': 'http://uri.interlex.org/base/tmp_0741533', 'curie': 'TMP:0741533', 'label': 'test_6E73DXMG8AWZ', 'labels': (), 'definition': 'Part of the central nervous system', 'synonyms': ({'id': '1779851', 'tid': '663638', 'literal': 'Encephalon', 'type': '', 'time': '1596237481', 'version': '1'}, {'id': '1779852', 'tid': '663638', 'literal': 'Cerebro', 'type': '', 'time': '1596237481', 'version': '1'}), 'deprecated': None, 'predicates': {'comment': 'Cannot live without it'}, 'type': None, 'types': (), '_graph': None, 'source': <ontquery.plugins.services.interlex.InterLexRemote object at 0x7ffa6927b340>})\n"
     ]
    }
   ],
   "source": [
    "import string\n",
    "import random\n",
    "def id_generator(size=6, chars=string.ascii_uppercase + string.digits):\n",
    "    return ''.join(random.choice(chars) for _ in range(size))\n",
    "random_label = 'test_' + id_generator(size=12)\n",
    "\n",
    "entity = {\n",
    "    'label': random_label,\n",
    "    'type': 'term',  # broken at the moment NEEDS PDE HARDCODED\n",
    "    'definition': 'Part of the central nervous system',\n",
    "    'comment': 'Cannot live without it',\n",
    "    'subThingOf': 'http://uri.interlex.org/base/tmp_0738397',  # ILX ID for Organ\n",
    "    'synonyms': ['Encephalon', 'Cerebro'],\n",
    "    'predicates': {\n",
    "        'http://uri.interlex.org/base/tmp_0738407': 'sample_value',  # spont firing beta ID | annotation\n",
    "        'http://uri.interlex.org/base/tmp_0738408': 'http://uri.interlex.org/base/tmp_0738406',  # relationship\n",
    "    }\n",
    "}\n",
    "result = ilx_cli.add_entity(**entity)\n",
    "print(result)"
   ]
  },
  {
   "cell_type": "code",
   "execution_count": 5,
   "metadata": {},
   "outputs": [
    {
     "data": {
      "text/plain": [
       "URL('https://test3.scicrunch.org/api/1')"
      ]
     },
     "execution_count": 5,
     "metadata": {},
     "output_type": "execute_result"
    }
   ],
   "source": [
    "ilx_cli.apiEndpoint"
   ]
  },
  {
   "cell_type": "markdown",
   "metadata": {},
   "source": [
    "# UPDATE"
   ]
  },
  {
   "cell_type": "code",
   "execution_count": 12,
   "metadata": {},
   "outputs": [
    {
     "data": {
      "text/plain": [
       "\u001b[0;31mSignature:\u001b[0m\n",
       "\u001b[0milx_cli\u001b[0m\u001b[0;34m.\u001b[0m\u001b[0mupdate_entity\u001b[0m\u001b[0;34m(\u001b[0m\u001b[0;34m\u001b[0m\n",
       "\u001b[0;34m\u001b[0m    \u001b[0milx_id\u001b[0m\u001b[0;34m:\u001b[0m \u001b[0mstr\u001b[0m \u001b[0;34m=\u001b[0m \u001b[0;32mNone\u001b[0m\u001b[0;34m,\u001b[0m\u001b[0;34m\u001b[0m\n",
       "\u001b[0;34m\u001b[0m    \u001b[0mlabel\u001b[0m\u001b[0;34m:\u001b[0m \u001b[0mstr\u001b[0m \u001b[0;34m=\u001b[0m \u001b[0;32mNone\u001b[0m\u001b[0;34m,\u001b[0m\u001b[0;34m\u001b[0m\n",
       "\u001b[0;34m\u001b[0m    \u001b[0mtype\u001b[0m\u001b[0;34m:\u001b[0m \u001b[0mstr\u001b[0m \u001b[0;34m=\u001b[0m \u001b[0;32mNone\u001b[0m\u001b[0;34m,\u001b[0m\u001b[0;34m\u001b[0m\n",
       "\u001b[0;34m\u001b[0m    \u001b[0mdefinition\u001b[0m\u001b[0;34m:\u001b[0m \u001b[0mstr\u001b[0m \u001b[0;34m=\u001b[0m \u001b[0;32mNone\u001b[0m\u001b[0;34m,\u001b[0m\u001b[0;34m\u001b[0m\n",
       "\u001b[0;34m\u001b[0m    \u001b[0msubThingOf\u001b[0m\u001b[0;34m:\u001b[0m \u001b[0mstr\u001b[0m \u001b[0;34m=\u001b[0m \u001b[0;32mNone\u001b[0m\u001b[0;34m,\u001b[0m\u001b[0;34m\u001b[0m\n",
       "\u001b[0;34m\u001b[0m    \u001b[0mcomment\u001b[0m\u001b[0;34m:\u001b[0m \u001b[0mstr\u001b[0m \u001b[0;34m=\u001b[0m \u001b[0;32mNone\u001b[0m\u001b[0;34m,\u001b[0m\u001b[0;34m\u001b[0m\n",
       "\u001b[0;34m\u001b[0m    \u001b[0madd_synonyms\u001b[0m\u001b[0;34m:\u001b[0m \u001b[0mtuple\u001b[0m \u001b[0;34m=\u001b[0m \u001b[0;32mNone\u001b[0m\u001b[0;34m,\u001b[0m\u001b[0;34m\u001b[0m\n",
       "\u001b[0;34m\u001b[0m    \u001b[0mdelete_synonyms\u001b[0m\u001b[0;34m:\u001b[0m \u001b[0mtuple\u001b[0m \u001b[0;34m=\u001b[0m \u001b[0;32mNone\u001b[0m\u001b[0;34m,\u001b[0m\u001b[0;34m\u001b[0m\n",
       "\u001b[0;34m\u001b[0m    \u001b[0madd_existing_ids\u001b[0m\u001b[0;34m:\u001b[0m \u001b[0mList\u001b[0m\u001b[0;34m[\u001b[0m\u001b[0mdict\u001b[0m\u001b[0;34m]\u001b[0m \u001b[0;34m=\u001b[0m \u001b[0;32mNone\u001b[0m\u001b[0;34m,\u001b[0m\u001b[0;34m\u001b[0m\n",
       "\u001b[0;34m\u001b[0m    \u001b[0mdelete_existing_ids\u001b[0m\u001b[0;34m:\u001b[0m \u001b[0mList\u001b[0m\u001b[0;34m[\u001b[0m\u001b[0mdict\u001b[0m\u001b[0;34m]\u001b[0m \u001b[0;34m=\u001b[0m \u001b[0;32mNone\u001b[0m\u001b[0;34m,\u001b[0m\u001b[0;34m\u001b[0m\n",
       "\u001b[0;34m\u001b[0m    \u001b[0mpredicates_to_add\u001b[0m\u001b[0;34m:\u001b[0m \u001b[0mdict\u001b[0m \u001b[0;34m=\u001b[0m \u001b[0;32mNone\u001b[0m\u001b[0;34m,\u001b[0m\u001b[0;34m\u001b[0m\n",
       "\u001b[0;34m\u001b[0m    \u001b[0mpredicates_to_delete\u001b[0m\u001b[0;34m:\u001b[0m \u001b[0mdict\u001b[0m \u001b[0;34m=\u001b[0m \u001b[0;32mNone\u001b[0m\u001b[0;34m,\u001b[0m\u001b[0;34m\u001b[0m\n",
       "\u001b[0;34m\u001b[0m    \u001b[0mcid\u001b[0m\u001b[0;34m:\u001b[0m \u001b[0mstr\u001b[0m \u001b[0;34m=\u001b[0m \u001b[0;32mNone\u001b[0m\u001b[0;34m,\u001b[0m\u001b[0;34m\u001b[0m\n",
       "\u001b[0;34m\u001b[0m    \u001b[0mstatus\u001b[0m\u001b[0;34m:\u001b[0m \u001b[0mstr\u001b[0m \u001b[0;34m=\u001b[0m \u001b[0;32mNone\u001b[0m\u001b[0;34m,\u001b[0m\u001b[0;34m\u001b[0m\n",
       "\u001b[0;34m\u001b[0m\u001b[0;34m)\u001b[0m \u001b[0;34m->\u001b[0m \u001b[0mobject\u001b[0m\u001b[0;34m\u001b[0m\u001b[0;34m\u001b[0m\u001b[0m\n",
       "\u001b[0;31mDocstring:\u001b[0m\n",
       "Update existing entity.\n",
       "\n",
       ":param ilx_id: Interlex IRI, curie, or fragment of entity to update.\n",
       ":param label: Name of entity.\n",
       ":param type: InterLex entities type: term, cde, fde, pde, annotation, or relationship\n",
       ":param definition: Entities official definition.\n",
       ":param comment: A foot note regarding either the interpretation of the data or the data itself\n",
       ":param subThingOf: The ilx_id of the parent of this entity. Example: Organ is a superclass to Brain\n",
       ":param cid: Community ID.\n",
       ":param status: Entity status.\n",
       "    -2 : Withdrawn; entity is no longer searchable and is not visible\n",
       "    -1 : Under review; entity is visible\n",
       "     0 : No action needed; entity is visible\n",
       ":param add_synonyms: Synonyms to add if they don't already exist.\n",
       ":param delete_synonyms: Synonyms to delete.\n",
       ":param add_existing_ids: Add alternative IRIs if they don't already exist.\n",
       ":param delete_existing_ids: Delete alternative IRIs.\n",
       ":return: Server response that is a nested dictionary format\n",
       "\n",
       ">>> self.update_entity(                 ilx_id='ilx_0101431',                 label='Brain',                 type='term',  # options: term, pde, fde, cde, annotation, or relationship                 definition='Official definition for entity.',                 comment='Additional casual notes for the next person.',                 subThingOf='ilx_1234567',                 add_synonyms=[{                     'literal': 'Better Brains',  # label of synonym                     'type': 'obo:hasExactSynonym',  # Often predicate defined in ref ontology.                 }],                 delete_synonyms=[{                     'literal': 'Brains',  # label of synonym                     'type': 'obo:hasExactSynonym',  # Often predicate defined in ref ontology.                 }],                 add_existing_ids=[{                     'iri': 'http://purl.obolibrary.org/obo/UBERON_0000956',                     'curie': 'UBERON:0000956',  # Obeys prefix:id structure.                     'preferred': '1',  # Can be 0 or 1 with a type of either str or int.                 }],                 delet_existing_ids=[{                     'iri': 'http://purl.obolibrary.org/obo/UBERON_0000955',                     'curie': 'UBERON:0000955',  # Obeys prefix:id structure.                 }],                 predicates_to_add={                     # Annotation                     'http://uri.interlex.org/base/ilx_0101432': 'sample_annotation_value',                     # Relationship                     'http://uri.interlex.org/base/ilx_0101435': 'http://uri.interlex.org/base/ilx_0101434',                 },                 predicates_to_delete={                     # Annotation                     'http://uri.interlex.org/base/ilx_0101432': 'sample_annotation_value',                     # Relationship                     'http://uri.interlex.org/base/ilx_0101435': 'http://uri.interlex.org/base/ilx_0101434',                 },                 cid='504',  # SPARC Community,                 status='0',  # remove delete             )\n",
       "\u001b[0;31mSource:\u001b[0m   \n",
       "    \u001b[0;32mdef\u001b[0m \u001b[0mupdate_entity\u001b[0m\u001b[0;34m(\u001b[0m\u001b[0mself\u001b[0m\u001b[0;34m,\u001b[0m\u001b[0;34m\u001b[0m\n",
       "\u001b[0;34m\u001b[0m                      \u001b[0milx_id\u001b[0m\u001b[0;34m:\u001b[0m \u001b[0mstr\u001b[0m \u001b[0;34m=\u001b[0m \u001b[0;32mNone\u001b[0m\u001b[0;34m,\u001b[0m\u001b[0;34m\u001b[0m\n",
       "\u001b[0;34m\u001b[0m                      \u001b[0mlabel\u001b[0m\u001b[0;34m:\u001b[0m \u001b[0mstr\u001b[0m \u001b[0;34m=\u001b[0m \u001b[0;32mNone\u001b[0m\u001b[0;34m,\u001b[0m\u001b[0;34m\u001b[0m\n",
       "\u001b[0;34m\u001b[0m                      \u001b[0mtype\u001b[0m\u001b[0;34m:\u001b[0m \u001b[0mstr\u001b[0m \u001b[0;34m=\u001b[0m \u001b[0;32mNone\u001b[0m\u001b[0;34m,\u001b[0m\u001b[0;34m\u001b[0m\n",
       "\u001b[0;34m\u001b[0m                      \u001b[0mdefinition\u001b[0m\u001b[0;34m:\u001b[0m \u001b[0mstr\u001b[0m \u001b[0;34m=\u001b[0m \u001b[0;32mNone\u001b[0m\u001b[0;34m,\u001b[0m\u001b[0;34m\u001b[0m\n",
       "\u001b[0;34m\u001b[0m                      \u001b[0msubThingOf\u001b[0m\u001b[0;34m:\u001b[0m \u001b[0mstr\u001b[0m \u001b[0;34m=\u001b[0m \u001b[0;32mNone\u001b[0m\u001b[0;34m,\u001b[0m\u001b[0;34m\u001b[0m\n",
       "\u001b[0;34m\u001b[0m                      \u001b[0mcomment\u001b[0m\u001b[0;34m:\u001b[0m \u001b[0mstr\u001b[0m \u001b[0;34m=\u001b[0m \u001b[0;32mNone\u001b[0m\u001b[0;34m,\u001b[0m\u001b[0;34m\u001b[0m\n",
       "\u001b[0;34m\u001b[0m                      \u001b[0madd_synonyms\u001b[0m\u001b[0;34m:\u001b[0m \u001b[0mtuple\u001b[0m \u001b[0;34m=\u001b[0m \u001b[0;32mNone\u001b[0m\u001b[0;34m,\u001b[0m\u001b[0;34m\u001b[0m\n",
       "\u001b[0;34m\u001b[0m                      \u001b[0mdelete_synonyms\u001b[0m\u001b[0;34m:\u001b[0m \u001b[0mtuple\u001b[0m \u001b[0;34m=\u001b[0m \u001b[0;32mNone\u001b[0m\u001b[0;34m,\u001b[0m\u001b[0;34m\u001b[0m\n",
       "\u001b[0;34m\u001b[0m                      \u001b[0madd_existing_ids\u001b[0m\u001b[0;34m:\u001b[0m \u001b[0mList\u001b[0m\u001b[0;34m[\u001b[0m\u001b[0mdict\u001b[0m\u001b[0;34m]\u001b[0m \u001b[0;34m=\u001b[0m \u001b[0;32mNone\u001b[0m\u001b[0;34m,\u001b[0m\u001b[0;34m\u001b[0m\n",
       "\u001b[0;34m\u001b[0m                      \u001b[0mdelete_existing_ids\u001b[0m\u001b[0;34m:\u001b[0m \u001b[0mList\u001b[0m\u001b[0;34m[\u001b[0m\u001b[0mdict\u001b[0m\u001b[0;34m]\u001b[0m \u001b[0;34m=\u001b[0m \u001b[0;32mNone\u001b[0m\u001b[0;34m,\u001b[0m\u001b[0;34m\u001b[0m\n",
       "\u001b[0;34m\u001b[0m                      \u001b[0mpredicates_to_add\u001b[0m\u001b[0;34m:\u001b[0m \u001b[0mdict\u001b[0m \u001b[0;34m=\u001b[0m \u001b[0;32mNone\u001b[0m\u001b[0;34m,\u001b[0m\u001b[0;34m\u001b[0m\n",
       "\u001b[0;34m\u001b[0m                      \u001b[0mpredicates_to_delete\u001b[0m\u001b[0;34m:\u001b[0m \u001b[0mdict\u001b[0m \u001b[0;34m=\u001b[0m \u001b[0;32mNone\u001b[0m\u001b[0;34m,\u001b[0m\u001b[0;34m\u001b[0m\n",
       "\u001b[0;34m\u001b[0m                      \u001b[0mcid\u001b[0m\u001b[0;34m:\u001b[0m \u001b[0mstr\u001b[0m \u001b[0;34m=\u001b[0m \u001b[0;32mNone\u001b[0m\u001b[0;34m,\u001b[0m\u001b[0;34m\u001b[0m\n",
       "\u001b[0;34m\u001b[0m                      \u001b[0mstatus\u001b[0m\u001b[0;34m:\u001b[0m \u001b[0mstr\u001b[0m \u001b[0;34m=\u001b[0m \u001b[0;32mNone\u001b[0m\u001b[0;34m,\u001b[0m\u001b[0;34m)\u001b[0m \u001b[0;34m->\u001b[0m \u001b[0mobject\u001b[0m\u001b[0;34m:\u001b[0m\u001b[0;34m\u001b[0m\n",
       "\u001b[0;34m\u001b[0m        \u001b[0;34m\"\"\" Update existing entity.\u001b[0m\n",
       "\u001b[0;34m\u001b[0m\n",
       "\u001b[0;34m        :param ilx_id: Interlex IRI, curie, or fragment of entity to update.\u001b[0m\n",
       "\u001b[0;34m        :param label: Name of entity.\u001b[0m\n",
       "\u001b[0;34m        :param type: InterLex entities type: term, cde, fde, pde, annotation, or relationship\u001b[0m\n",
       "\u001b[0;34m        :param definition: Entities official definition.\u001b[0m\n",
       "\u001b[0;34m        :param comment: A foot note regarding either the interpretation of the data or the data itself\u001b[0m\n",
       "\u001b[0;34m        :param subThingOf: The ilx_id of the parent of this entity. Example: Organ is a superclass to Brain\u001b[0m\n",
       "\u001b[0;34m        :param cid: Community ID.\u001b[0m\n",
       "\u001b[0;34m        :param status: Entity status.\u001b[0m\n",
       "\u001b[0;34m            -2 : Withdrawn; entity is no longer searchable and is not visible\u001b[0m\n",
       "\u001b[0;34m            -1 : Under review; entity is visible\u001b[0m\n",
       "\u001b[0;34m             0 : No action needed; entity is visible\u001b[0m\n",
       "\u001b[0;34m        :param add_synonyms: Synonyms to add if they don't already exist.\u001b[0m\n",
       "\u001b[0;34m        :param delete_synonyms: Synonyms to delete.\u001b[0m\n",
       "\u001b[0;34m        :param add_existing_ids: Add alternative IRIs if they don't already exist.\u001b[0m\n",
       "\u001b[0;34m        :param delete_existing_ids: Delete alternative IRIs.\u001b[0m\n",
       "\u001b[0;34m        :return: Server response that is a nested dictionary format\u001b[0m\n",
       "\u001b[0;34m\u001b[0m\n",
       "\u001b[0;34m        >>> self.update_entity( \\\u001b[0m\n",
       "\u001b[0;34m                ilx_id='ilx_0101431', \\\u001b[0m\n",
       "\u001b[0;34m                label='Brain', \\\u001b[0m\n",
       "\u001b[0;34m                type='term',  # options: term, pde, fde, cde, annotation, or relationship \\\u001b[0m\n",
       "\u001b[0;34m                definition='Official definition for entity.', \\\u001b[0m\n",
       "\u001b[0;34m                comment='Additional casual notes for the next person.', \\\u001b[0m\n",
       "\u001b[0;34m                subThingOf='ilx_1234567', \\\u001b[0m\n",
       "\u001b[0;34m                add_synonyms=[{ \\\u001b[0m\n",
       "\u001b[0;34m                    'literal': 'Better Brains',  # label of synonym \\\u001b[0m\n",
       "\u001b[0;34m                    'type': 'obo:hasExactSynonym',  # Often predicate defined in ref ontology. \\\u001b[0m\n",
       "\u001b[0;34m                }], \\\u001b[0m\n",
       "\u001b[0;34m                delete_synonyms=[{ \\\u001b[0m\n",
       "\u001b[0;34m                    'literal': 'Brains',  # label of synonym \\\u001b[0m\n",
       "\u001b[0;34m                    'type': 'obo:hasExactSynonym',  # Often predicate defined in ref ontology. \\\u001b[0m\n",
       "\u001b[0;34m                }], \\\u001b[0m\n",
       "\u001b[0;34m                add_existing_ids=[{ \\\u001b[0m\n",
       "\u001b[0;34m                    'iri': 'http://purl.obolibrary.org/obo/UBERON_0000956', \\\u001b[0m\n",
       "\u001b[0;34m                    'curie': 'UBERON:0000956',  # Obeys prefix:id structure. \\\u001b[0m\n",
       "\u001b[0;34m                    'preferred': '1',  # Can be 0 or 1 with a type of either str or int. \\\u001b[0m\n",
       "\u001b[0;34m                }], \\\u001b[0m\n",
       "\u001b[0;34m                delet_existing_ids=[{ \\\u001b[0m\n",
       "\u001b[0;34m                    'iri': 'http://purl.obolibrary.org/obo/UBERON_0000955', \\\u001b[0m\n",
       "\u001b[0;34m                    'curie': 'UBERON:0000955',  # Obeys prefix:id structure. \\\u001b[0m\n",
       "\u001b[0;34m                }], \\\u001b[0m\n",
       "\u001b[0;34m                predicates_to_add={ \\\u001b[0m\n",
       "\u001b[0;34m                    # Annotation \\\u001b[0m\n",
       "\u001b[0;34m                    'http://uri.interlex.org/base/ilx_0101432': 'sample_annotation_value', \\\u001b[0m\n",
       "\u001b[0;34m                    # Relationship \\\u001b[0m\n",
       "\u001b[0;34m                    'http://uri.interlex.org/base/ilx_0101435': 'http://uri.interlex.org/base/ilx_0101434', \\\u001b[0m\n",
       "\u001b[0;34m                }, \\\u001b[0m\n",
       "\u001b[0;34m                predicates_to_delete={ \\\u001b[0m\n",
       "\u001b[0;34m                    # Annotation \\\u001b[0m\n",
       "\u001b[0;34m                    'http://uri.interlex.org/base/ilx_0101432': 'sample_annotation_value', \\\u001b[0m\n",
       "\u001b[0;34m                    # Relationship \\\u001b[0m\n",
       "\u001b[0;34m                    'http://uri.interlex.org/base/ilx_0101435': 'http://uri.interlex.org/base/ilx_0101434', \\\u001b[0m\n",
       "\u001b[0;34m                }, \\\u001b[0m\n",
       "\u001b[0;34m                cid='504',  # SPARC Community, \\\u001b[0m\n",
       "\u001b[0;34m                status='0',  # remove delete \\\u001b[0m\n",
       "\u001b[0;34m            )\u001b[0m\n",
       "\u001b[0;34m        \"\"\"\u001b[0m\u001b[0;34m\u001b[0m\n",
       "\u001b[0;34m\u001b[0m        \u001b[0mresp\u001b[0m \u001b[0;34m=\u001b[0m \u001b[0mself\u001b[0m\u001b[0;34m.\u001b[0m\u001b[0milx_cli\u001b[0m\u001b[0;34m.\u001b[0m\u001b[0mupdate_entity\u001b[0m\u001b[0;34m(\u001b[0m\u001b[0;34m\u001b[0m\n",
       "\u001b[0;34m\u001b[0m            \u001b[0milx_id\u001b[0m\u001b[0;34m=\u001b[0m\u001b[0milx_id\u001b[0m\u001b[0;34m,\u001b[0m\u001b[0;34m\u001b[0m\n",
       "\u001b[0;34m\u001b[0m            \u001b[0mlabel\u001b[0m\u001b[0;34m=\u001b[0m\u001b[0mlabel\u001b[0m\u001b[0;34m,\u001b[0m\u001b[0;34m\u001b[0m\n",
       "\u001b[0;34m\u001b[0m            \u001b[0mtype\u001b[0m\u001b[0;34m=\u001b[0m\u001b[0mtype\u001b[0m\u001b[0;34m,\u001b[0m\u001b[0;34m\u001b[0m\n",
       "\u001b[0;34m\u001b[0m            \u001b[0msuperclass\u001b[0m\u001b[0;34m=\u001b[0m\u001b[0msubThingOf\u001b[0m\u001b[0;34m,\u001b[0m\u001b[0;34m\u001b[0m\n",
       "\u001b[0;34m\u001b[0m            \u001b[0mdefinition\u001b[0m\u001b[0;34m=\u001b[0m\u001b[0mdefinition\u001b[0m\u001b[0;34m,\u001b[0m\u001b[0;34m\u001b[0m\n",
       "\u001b[0;34m\u001b[0m            \u001b[0mcomment\u001b[0m\u001b[0;34m=\u001b[0m\u001b[0mcomment\u001b[0m\u001b[0;34m,\u001b[0m\u001b[0;34m\u001b[0m\n",
       "\u001b[0;34m\u001b[0m            \u001b[0madd_synonyms\u001b[0m\u001b[0;34m=\u001b[0m\u001b[0madd_synonyms\u001b[0m\u001b[0;34m,\u001b[0m\u001b[0;34m\u001b[0m\n",
       "\u001b[0;34m\u001b[0m            \u001b[0mdelete_synonyms\u001b[0m\u001b[0;34m=\u001b[0m\u001b[0mdelete_synonyms\u001b[0m\u001b[0;34m,\u001b[0m\u001b[0;34m\u001b[0m\n",
       "\u001b[0;34m\u001b[0m            \u001b[0madd_existing_ids\u001b[0m\u001b[0;34m=\u001b[0m\u001b[0madd_existing_ids\u001b[0m\u001b[0;34m,\u001b[0m\u001b[0;34m\u001b[0m\n",
       "\u001b[0;34m\u001b[0m            \u001b[0mdelete_existing_ids\u001b[0m\u001b[0;34m=\u001b[0m\u001b[0mdelete_existing_ids\u001b[0m\u001b[0;34m,\u001b[0m\u001b[0;34m\u001b[0m\n",
       "\u001b[0;34m\u001b[0m            \u001b[0mcid\u001b[0m\u001b[0;34m=\u001b[0m\u001b[0mcid\u001b[0m\u001b[0;34m,\u001b[0m\u001b[0;34m\u001b[0m\n",
       "\u001b[0;34m\u001b[0m            \u001b[0mstatus\u001b[0m\u001b[0;34m=\u001b[0m\u001b[0mstatus\u001b[0m\u001b[0;34m,\u001b[0m\u001b[0;34m\u001b[0m\n",
       "\u001b[0;34m\u001b[0m            \u001b[0;31m# predicates=tresp,\u001b[0m\u001b[0;34m\u001b[0m\n",
       "\u001b[0;34m\u001b[0m        \u001b[0;34m)\u001b[0m\u001b[0;34m\u001b[0m\n",
       "\u001b[0;34m\u001b[0m\u001b[0;34m\u001b[0m\n",
       "\u001b[0;34m\u001b[0m        \u001b[0mtresp\u001b[0m \u001b[0;34m=\u001b[0m \u001b[0;32mNone\u001b[0m  \u001b[0;31m# todo test if tresp is good enough to be put into out_predicates\u001b[0m\u001b[0;34m\u001b[0m\n",
       "\u001b[0;34m\u001b[0m        \u001b[0;32mif\u001b[0m \u001b[0mpredicates_to_add\u001b[0m\u001b[0;34m:\u001b[0m\u001b[0;34m\u001b[0m\n",
       "\u001b[0;34m\u001b[0m            \u001b[0mtrep\u001b[0m \u001b[0;34m=\u001b[0m \u001b[0mself\u001b[0m\u001b[0;34m.\u001b[0m\u001b[0madd_predicates\u001b[0m\u001b[0;34m(\u001b[0m\u001b[0milx_curieoriri\u001b[0m\u001b[0;34m=\u001b[0m\u001b[0mresp\u001b[0m\u001b[0;34m[\u001b[0m\u001b[0;34m'ilx'\u001b[0m\u001b[0;34m]\u001b[0m\u001b[0;34m,\u001b[0m \u001b[0mpredicates\u001b[0m\u001b[0;34m=\u001b[0m\u001b[0mpredicates_to_add\u001b[0m\u001b[0;34m)\u001b[0m\u001b[0;34m\u001b[0m\n",
       "\u001b[0;34m\u001b[0m\u001b[0;34m\u001b[0m\n",
       "\u001b[0;34m\u001b[0m        \u001b[0mtresp\u001b[0m \u001b[0;34m=\u001b[0m \u001b[0;32mNone\u001b[0m\u001b[0;34m\u001b[0m\n",
       "\u001b[0;34m\u001b[0m        \u001b[0;32mif\u001b[0m \u001b[0mpredicates_to_delete\u001b[0m\u001b[0;34m:\u001b[0m\u001b[0;34m\u001b[0m\n",
       "\u001b[0;34m\u001b[0m            \u001b[0mtrep\u001b[0m \u001b[0;34m=\u001b[0m \u001b[0mself\u001b[0m\u001b[0;34m.\u001b[0m\u001b[0mdelete_predicates\u001b[0m\u001b[0;34m(\u001b[0m\u001b[0milx_curieoriri\u001b[0m\u001b[0;34m=\u001b[0m\u001b[0mresp\u001b[0m\u001b[0;34m[\u001b[0m\u001b[0;34m'ilx'\u001b[0m\u001b[0;34m]\u001b[0m\u001b[0;34m,\u001b[0m \u001b[0mpredicates\u001b[0m\u001b[0;34m=\u001b[0m\u001b[0mpredicates_to_delete\u001b[0m\u001b[0;34m)\u001b[0m\u001b[0;34m\u001b[0m\n",
       "\u001b[0;34m\u001b[0m\u001b[0;34m\u001b[0m\n",
       "\u001b[0;34m\u001b[0m        \u001b[0mout_predicates\u001b[0m \u001b[0;34m=\u001b[0m \u001b[0;34m{\u001b[0m\u001b[0;34m}\u001b[0m\u001b[0;34m\u001b[0m\n",
       "\u001b[0;34m\u001b[0m        \u001b[0;32mif\u001b[0m \u001b[0;34m'comment'\u001b[0m \u001b[0;32min\u001b[0m \u001b[0mresp\u001b[0m\u001b[0;34m:\u001b[0m  \u001b[0;31m# filtering of missing fields is done in the client\u001b[0m\u001b[0;34m\u001b[0m\n",
       "\u001b[0;34m\u001b[0m            \u001b[0mout_predicates\u001b[0m\u001b[0;34m[\u001b[0m\u001b[0;34m'comment'\u001b[0m\u001b[0;34m]\u001b[0m \u001b[0;34m=\u001b[0m \u001b[0mresp\u001b[0m\u001b[0;34m[\u001b[0m\u001b[0;34m'comment'\u001b[0m\u001b[0;34m]\u001b[0m\u001b[0;34m\u001b[0m\n",
       "\u001b[0;34m\u001b[0m        \u001b[0mresult\u001b[0m \u001b[0;34m=\u001b[0m \u001b[0mQueryResult\u001b[0m\u001b[0;34m(\u001b[0m\u001b[0;34m\u001b[0m\n",
       "\u001b[0;34m\u001b[0m             \u001b[0mquery_args\u001b[0m\u001b[0;34m=\u001b[0m\u001b[0;34m{\u001b[0m\u001b[0;34m}\u001b[0m\u001b[0;34m,\u001b[0m\u001b[0;34m\u001b[0m\n",
       "\u001b[0;34m\u001b[0m             \u001b[0miri\u001b[0m\u001b[0;34m=\u001b[0m\u001b[0;34m'http://uri.interlex.org/base/'\u001b[0m \u001b[0;34m+\u001b[0m \u001b[0mresp\u001b[0m\u001b[0;34m[\u001b[0m\u001b[0;34m'ilx'\u001b[0m\u001b[0;34m]\u001b[0m\u001b[0;34m,\u001b[0m\u001b[0;34m\u001b[0m\n",
       "\u001b[0;34m\u001b[0m             \u001b[0mcurie\u001b[0m\u001b[0;34m=\u001b[0m\u001b[0mresp\u001b[0m\u001b[0;34m[\u001b[0m\u001b[0;34m'ilx'\u001b[0m\u001b[0;34m]\u001b[0m\u001b[0;34m.\u001b[0m\u001b[0mreplace\u001b[0m\u001b[0;34m(\u001b[0m\u001b[0;34m'ilx_'\u001b[0m\u001b[0;34m,\u001b[0m \u001b[0;34m'ILX:'\u001b[0m\u001b[0;34m)\u001b[0m\u001b[0;34m.\u001b[0m\u001b[0mreplace\u001b[0m\u001b[0;34m(\u001b[0m\u001b[0;34m'tmp_'\u001b[0m\u001b[0;34m,\u001b[0m \u001b[0;34m'TMP:'\u001b[0m\u001b[0;34m)\u001b[0m\u001b[0;34m,\u001b[0m\u001b[0;34m\u001b[0m\n",
       "\u001b[0;34m\u001b[0m             \u001b[0mlabel\u001b[0m\u001b[0;34m=\u001b[0m\u001b[0mresp\u001b[0m\u001b[0;34m[\u001b[0m\u001b[0;34m'label'\u001b[0m\u001b[0;34m]\u001b[0m\u001b[0;34m,\u001b[0m\u001b[0;34m\u001b[0m\n",
       "\u001b[0;34m\u001b[0m             \u001b[0mlabels\u001b[0m\u001b[0;34m=\u001b[0m\u001b[0mtuple\u001b[0m\u001b[0;34m(\u001b[0m\u001b[0;34m)\u001b[0m\u001b[0;34m,\u001b[0m\u001b[0;34m\u001b[0m\n",
       "\u001b[0;34m\u001b[0m             \u001b[0;31m# abbrev=None,  # TODO\u001b[0m\u001b[0;34m\u001b[0m\n",
       "\u001b[0;34m\u001b[0m             \u001b[0;31m# acronym=None,  # TODO\u001b[0m\u001b[0;34m\u001b[0m\n",
       "\u001b[0;34m\u001b[0m             \u001b[0mdefinition\u001b[0m\u001b[0;34m=\u001b[0m\u001b[0mresp\u001b[0m\u001b[0;34m[\u001b[0m\u001b[0;34m'definition'\u001b[0m\u001b[0;34m]\u001b[0m\u001b[0;34m,\u001b[0m\u001b[0;34m\u001b[0m\n",
       "\u001b[0;34m\u001b[0m             \u001b[0msynonyms\u001b[0m\u001b[0;34m=\u001b[0m\u001b[0mtuple\u001b[0m\u001b[0;34m(\u001b[0m\u001b[0;34m[\u001b[0m\u001b[0md\u001b[0m\u001b[0;34m[\u001b[0m\u001b[0;34m'literal'\u001b[0m\u001b[0;34m]\u001b[0m \u001b[0;32mfor\u001b[0m \u001b[0md\u001b[0m \u001b[0;32min\u001b[0m \u001b[0mresp\u001b[0m\u001b[0;34m[\u001b[0m\u001b[0;34m'synonyms'\u001b[0m\u001b[0;34m]\u001b[0m\u001b[0;34m]\u001b[0m\u001b[0;34m)\u001b[0m\u001b[0;34m,\u001b[0m\u001b[0;34m\u001b[0m\n",
       "\u001b[0;34m\u001b[0m             \u001b[0;31m# deprecated=None,\u001b[0m\u001b[0;34m\u001b[0m\n",
       "\u001b[0;34m\u001b[0m             \u001b[0;31m# prefix=None,\u001b[0m\u001b[0;34m\u001b[0m\n",
       "\u001b[0;34m\u001b[0m             \u001b[0;31m# category=None,\u001b[0m\u001b[0;34m\u001b[0m\n",
       "\u001b[0;34m\u001b[0m             \u001b[0mpredicates\u001b[0m\u001b[0;34m=\u001b[0m\u001b[0mout_predicates\u001b[0m\u001b[0;34m,\u001b[0m\u001b[0;34m\u001b[0m\n",
       "\u001b[0;34m\u001b[0m             \u001b[0;31m# _graph=None,\u001b[0m\u001b[0;34m\u001b[0m\n",
       "\u001b[0;34m\u001b[0m             \u001b[0msource\u001b[0m\u001b[0;34m=\u001b[0m\u001b[0mself\u001b[0m\u001b[0;34m,\u001b[0m\u001b[0;34m\u001b[0m\n",
       "\u001b[0;34m\u001b[0m        \u001b[0;34m)\u001b[0m\u001b[0;34m\u001b[0m\n",
       "\u001b[0;34m\u001b[0m        \u001b[0;32mreturn\u001b[0m \u001b[0mresult\u001b[0m\u001b[0;34m\u001b[0m\u001b[0;34m\u001b[0m\u001b[0m\n",
       "\u001b[0;31mFile:\u001b[0m      ~/Dropbox/git/ontquery/ontquery/plugins/services/interlex.py\n",
       "\u001b[0;31mType:\u001b[0m      method\n"
      ]
     },
     "metadata": {},
     "output_type": "display_data"
    }
   ],
   "source": [
    "ilx_cli.update_entity??"
   ]
  },
  {
   "cell_type": "code",
   "execution_count": 16,
   "metadata": {},
   "outputs": [
    {
     "name": "stderr",
     "output_type": "stream",
     "text": [
      "[2020-07-31 16:18:31,463] -  WARNING -       ontquery - interlex_client.py:790  - Annotation: [label_update -> test_K8KAGD9D0QOQ -> sample_value2], already exists.\n",
      "[2020-07-31 16:18:31,687] -  WARNING -       ontquery - interlex_client.py:790  - Annotation: [label_update -> test_K8KAGD9D0QOQ -> sample_value2], already exists.\n",
      "[2020-07-31 16:18:31,955] -  WARNING -       ontquery - interlex_client.py:901  - relationship: [label_update -> test_67M6YEYODK3V -> test_5YMGMUGWAKY5], already exists.\n",
      "[2020-07-31 16:18:32,226] -  WARNING -       ontquery - interlex_client.py:901  - relationship: [label_update -> test_67M6YEYODK3V -> test_5YMGMUGWAKY5], already exists.\n",
      "[2020-07-31 16:18:32,379] -  WARNING -       ontquery - interlex_client.py:834  - Annotation you wanted to delete does not exist\n"
     ]
    },
    {
     "name": "stdout",
     "output_type": "stream",
     "text": [
      "QueryResult({'iri': 'http://uri.interlex.org/base/tmp_0741533', 'curie': 'TMP:0741533', 'label': 'label_update', 'labels': (), 'definition': 'Updated definition!', 'synonyms': ('Encephalon', 'Cerebro', 'Cerebro_update'), 'deprecated': None, 'predicates': {'comment': 'Cannot live without it UPDATE'}, 'type': None, 'types': (), '_graph': None, 'source': <ontquery.plugins.services.interlex.InterLexRemote object at 0x7ffa6927b340>})\n"
     ]
    }
   ],
   "source": [
    "entity = {\n",
    "    'ilx_id': result['curie'],\n",
    "    'label': 'label_update',\n",
    "    # 'type': 'term', # broken at the moment NEEDS PDE HARDCODED\n",
    "    'definition': 'Updated definition!',\n",
    "    'comment': 'Cannot live without it UPDATE',\n",
    "    'subThingOf': 'http://uri.interlex.org/base/tmp_0738406',  # ILX ID for Organ\n",
    "    'add_synonyms': ['Encephalon', 'Cerebro_update'],\n",
    "    'predicates_to_add': {\n",
    "        # DUPCLICATE CHECK\n",
    "        'http://uri.interlex.org/base/tmp_0738407': 'sample_value',  # spont firing beta ID | annotation\n",
    "        'http://uri.interlex.org/base/tmp_0738407': 'sample_value2',  # spont firing beta ID | annotation\n",
    "        'http://uri.interlex.org/base/tmp_0738408': 'http://uri.interlex.org/base/tmp_0738409'  # relationship\n",
    "    },\n",
    "    'predicates_to_delete': {\n",
    "        # DELETE ORIGINAL\n",
    "        'http://uri.interlex.org/base/tmp_0738407': 'sample_value',  # spont firing beta ID | annotation\n",
    "        'http://uri.interlex.org/base/tmp_0738408': 'http://uri.interlex.org/base/tmp_0738409',  # relationship\n",
    "    }\n",
    "}\n",
    "result = ilx_cli.update_entity(**entity)\n",
    "print(result)"
   ]
  }
 ],
 "metadata": {
  "kernelspec": {
   "display_name": "Python 3",
   "language": "python",
   "name": "python3"
  },
  "language_info": {
   "codemirror_mode": {
    "name": "ipython",
    "version": 3
   },
   "file_extension": ".py",
   "mimetype": "text/x-python",
   "name": "python",
   "nbconvert_exporter": "python",
   "pygments_lexer": "ipython3",
   "version": "3.8.5"
  }
 },
 "nbformat": 4,
 "nbformat_minor": 4
}
