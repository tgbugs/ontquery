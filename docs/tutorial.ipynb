{
 "cells": [
  {
   "cell_type": "markdown",
   "metadata": {},
   "source": [
    "# InterLex Test Client init"
   ]
  },
  {
   "cell_type": "code",
   "execution_count": 15,
   "metadata": {},
   "outputs": [
    {
     "data": {
      "text/plain": [
       "'https://test3.scicrunch.org/api/1'"
      ]
     },
     "execution_count": 15,
     "metadata": {},
     "output_type": "execute_result"
    }
   ],
   "source": [
    "from ontquery.interlex import interlex_client\n",
    "ilx_cli = interlex_client('test3.scicrunch.org')\n",
    "ilx_cli.apiEndpoint"
   ]
  },
  {
   "cell_type": "markdown",
   "metadata": {},
   "source": [
    "# InterLex Production Client init. Please test on Test3 server first!"
   ]
  },
  {
   "cell_type": "code",
   "execution_count": 5,
   "metadata": {},
   "outputs": [
    {
     "data": {
      "text/plain": [
       "'https://scicrunch.org/api/1'"
      ]
     },
     "execution_count": 5,
     "metadata": {},
     "output_type": "execute_result"
    }
   ],
   "source": [
    "ilx_cli_production = interlex_client('scicrunch.org')\n",
    "ilx_cli_production.apiEndpoint"
   ]
  },
  {
   "cell_type": "markdown",
   "metadata": {},
   "source": [
    "# Check Your User Infro"
   ]
  },
  {
   "cell_type": "code",
   "execution_count": 3,
   "metadata": {},
   "outputs": [
    {
     "data": {
      "text/plain": [
       "{'logged_in': True,\n",
       " 'first_name': 'troy',\n",
       " 'last_name': 'sincomb',\n",
       " 'role': 2,\n",
       " 'communities': [{'portalName': 'odc-sci', 'cid': 97, 'level': 1},\n",
       "  {'portalName': 'SPARC', 'cid': 134, 'level': 1}],\n",
       " 'labs': [{'cid': 97, 'id': 3, 'name': 'SciCrunch @ UCSD'},\n",
       "  {'cid': 97, 'id': 76, 'name': 'tmsincomb-lab'}],\n",
       " 'datasets': [],\n",
       " 'id': 34142}"
      ]
     },
     "execution_count": 3,
     "metadata": {},
     "output_type": "execute_result"
    }
   ],
   "source": [
    "ilx_cli.ilx_cli._get('user/info').json()['data']"
   ]
  },
  {
   "cell_type": "markdown",
   "metadata": {},
   "source": [
    "# Query Exact Label & Syonym Match"
   ]
  },
  {
   "cell_type": "code",
   "execution_count": 12,
   "metadata": {},
   "outputs": [
    {
     "data": {
      "text/plain": [
       "[QueryResult({'iri': 'http://uri.interlex.org/base/ilx_0101431', 'curie': 'ILX:0101431', 'label': 'Brain', 'labels': (), 'definition': 'The part of the central nervous system contained within the cranium, comprising the forebrain, midbrain, hindbrain, and metencephalon. It is derived from the anterior part of the embryonic neural tube (or the encephalon). Does not include retina. (CUMBO)The rostral topographic division of the cerebrospinal axis, while the caudal division is the spinal cord. The usual criterion for distinguishing the two divisions in the adult is that the vertebrate brain lies within the skull whereas the spinal cord lies within the spinal (vertebral) column, although this is a difficult problem. (Swanson, 2014)', 'synonyms': ({'literal': 'Encephalon', 'type': ''},), 'deprecated': None, 'predicates': {}, 'type': None, 'types': (), '_graph': None, 'source': <ontquery.plugins.services.interlex.InterLexRemote object at 0x7fa564a27dc0>})]"
      ]
     },
     "execution_count": 12,
     "metadata": {},
     "output_type": "execute_result"
    }
   ],
   "source": [
    "# Exact Search with only 1 result back\n",
    "list(ilx_cli.query(label='brain'))"
   ]
  },
  {
   "cell_type": "markdown",
   "metadata": {},
   "source": [
    "# Get OntTerm represention of query result"
   ]
  },
  {
   "cell_type": "code",
   "execution_count": 13,
   "metadata": {},
   "outputs": [
    {
     "data": {
      "text/plain": [
       "[QueryResult({'iri': 'http://uri.interlex.org/base/ilx_0101431', 'curie': 'ILX:0101431', 'label': 'Brain', 'labels': (), 'definition': 'The part of the central nervous system contained within the cranium, comprising the forebrain, midbrain, hindbrain, and metencephalon. It is derived from the anterior part of the embryonic neural tube (or the encephalon). Does not include retina. (CUMBO)The rostral topographic division of the cerebrospinal axis, while the caudal division is the spinal cord. The usual criterion for distinguishing the two divisions in the adult is that the vertebrate brain lies within the skull whereas the spinal cord lies within the spinal (vertebral) column, although this is a difficult problem. (Swanson, 2014)', 'synonyms': ({'literal': 'Encephalon', 'type': ''},), 'deprecated': None, 'predicates': {}, 'type': None, 'types': (), '_graph': None, 'source': <ontquery.plugins.services.interlex.InterLexRemote object at 0x7fa564a27dc0>}),\n",
       " QueryResult({'iri': 'http://uri.interlex.org/base/ilx_0101434', 'curie': 'ILX:0101434', 'label': 'Brain Ischemia', 'labels': (), 'definition': 'Localized reduction of blood flow to brain tissue due to arterial obstruction or systemic hypoperfusion. This frequently occurs in conjunction with brain hypoxia ( HYPOXIA, BRAIN). Prolonged ischemia is associated with BRAIN INFARCTION (MeSH).', 'synonyms': ({'literal': 'Ischemic Brain Injury', 'type': ''}, {'literal': 'Ischemic Encephalopathy', 'type': ''}), 'deprecated': None, 'predicates': {}, 'type': None, 'types': (), '_graph': None, 'source': <ontquery.plugins.services.interlex.InterLexRemote object at 0x7fa564a27dc0>}),\n",
       " QueryResult({'iri': 'http://uri.interlex.org/base/ilx_0461406', 'curie': 'ILX:0461406', 'label': 'Brain Death', 'labels': (), 'definition': 'A state of prolonged irreversible cessation of all brain activity, including lower brain stem function with the complete absence of voluntary movements, responses to stimuli, brain stem reflexes, and spontaneous respirations. Reversible conditions which mimic this clinical state (e.g., sedative overdose, hypothermia, etc.) are excluded prior to making the determination of brain death. (From Adams et al., Principles of Neurology, 6th ed, pp348-9)', 'synonyms': (), 'deprecated': None, 'predicates': {}, 'type': None, 'types': (), '_graph': None, 'source': <ontquery.plugins.services.interlex.InterLexRemote object at 0x7fa564a27dc0>}),\n",
       " QueryResult({'iri': 'http://uri.interlex.org/base/ilx_0733041', 'curie': 'ILX:0733041', 'label': 'brain endothelium', 'labels': (), 'definition': 'Vascular endothelium found in blood vessels of the blood-brain-barrier.', 'synonyms': ({'literal': 'cerebromicrovascular endothelium', 'type': 'oboInOwl:hasRelatedSynonym'},), 'deprecated': None, 'predicates': {}, 'type': None, 'types': (), '_graph': None, 'source': <ontquery.plugins.services.interlex.InterLexRemote object at 0x7fa564a27dc0>}),\n",
       " QueryResult({'iri': 'http://uri.interlex.org/base/ilx_0732724', 'curie': 'ILX:0732724', 'label': 'embryonic brain', 'labels': (), 'definition': 'Brain of the embryo.', 'synonyms': (), 'deprecated': None, 'predicates': {}, 'type': None, 'types': (), '_graph': None, 'source': <ontquery.plugins.services.interlex.InterLexRemote object at 0x7fa564a27dc0>}),\n",
       " QueryResult({'iri': 'http://uri.interlex.org/base/ilx_0506443', 'curie': 'ILX:0506443', 'label': 'Brain Embolism', 'labels': (), 'definition': '', 'synonyms': (), 'deprecated': None, 'predicates': {}, 'type': None, 'types': (), '_graph': None, 'source': <ontquery.plugins.services.interlex.InterLexRemote object at 0x7fa564a27dc0>}),\n",
       " QueryResult({'iri': 'http://uri.interlex.org/base/ilx_0400525', 'curie': 'ILX:0400525', 'label': 'Brain Thrombus', 'labels': (), 'definition': '', 'synonyms': (), 'deprecated': None, 'predicates': {}, 'type': None, 'types': (), '_graph': None, 'source': <ontquery.plugins.services.interlex.InterLexRemote object at 0x7fa564a27dc0>}),\n",
       " QueryResult({'iri': 'http://uri.interlex.org/base/ilx_0506479', 'curie': 'ILX:0506479', 'label': 'Brain Thrombosis', 'labels': (), 'definition': '', 'synonyms': (), 'deprecated': None, 'predicates': {}, 'type': None, 'types': (), '_graph': None, 'source': <ontquery.plugins.services.interlex.InterLexRemote object at 0x7fa564a27dc0>}),\n",
       " QueryResult({'iri': 'http://uri.interlex.org/base/ilx_0489948', 'curie': 'ILX:0489948', 'label': 'Brain Waves', 'labels': (), 'definition': 'Wave-like oscillations of electric potential between parts of the brain recorded by EEG.', 'synonyms': (), 'deprecated': None, 'predicates': {}, 'type': None, 'types': (), '_graph': None, 'source': <ontquery.plugins.services.interlex.InterLexRemote object at 0x7fa564a27dc0>}),\n",
       " QueryResult({'iri': 'http://uri.interlex.org/base/ilx_0730602', 'curie': 'ILX:0730602', 'label': 'brain ventricle', 'labels': (), 'definition': 'one of the system of communicating cavities in the brain that are continuous with the central canal of the spinal cord, that like it are derived from the medullary canal of the embryo, that are lined with an epithelial ependyma, and that contain a serous fluid', 'synonyms': ({'literal': 'cerebral ventricle', 'type': 'oboInOwl:hasExactSynonym'}, {'literal': 'region of ventricular system of brain', 'type': 'oboInOwl:hasExactSynonym'}, {'literal': 'brain ventricles', 'type': 'oboInOwl:hasExactSynonym'}), 'deprecated': None, 'predicates': {}, 'type': None, 'types': (), '_graph': None, 'source': <ontquery.plugins.services.interlex.InterLexRemote object at 0x7fa564a27dc0>})]"
      ]
     },
     "execution_count": 13,
     "metadata": {},
     "output_type": "execute_result"
    }
   ],
   "source": [
    "[qr.asTerm() for qr in ilx_cli.query(label='brain')]"
   ]
  },
  {
   "cell_type": "markdown",
   "metadata": {},
   "source": [
    "# Query All Fields"
   ]
  },
  {
   "cell_type": "code",
   "execution_count": 14,
   "metadata": {},
   "outputs": [
    {
     "data": {
      "text/plain": [
       "QueryResult({'iri': 'http://uri.interlex.org/base/ilx_0101431', 'curie': 'ILX:0101431', 'label': 'Brain', 'labels': (), 'definition': 'The part of the central nervous system contained within the cranium, comprising the forebrain, midbrain, hindbrain, and metencephalon. It is derived from the anterior part of the embryonic neural tube (or the encephalon). Does not include retina. (CUMBO)The rostral topographic division of the cerebrospinal axis, while the caudal division is the spinal cord. The usual criterion for distinguishing the two divisions in the adult is that the vertebrate brain lies within the skull whereas the spinal cord lies within the spinal (vertebral) column, although this is a difficult problem. (Swanson, 2014)', 'synonyms': ({'id': '1781408', 'tid': '1432', 'literal': 'Encephalon', 'type': '', 'time': '1598039945', 'version': '10'},), 'deprecated': None, 'predicates': {}, 'type': None, 'types': (), '_graph': None, 'source': <ontquery.plugins.services.interlex.InterLexRemote object at 0x7fa564a27dc0>})"
      ]
     },
     "execution_count": 14,
     "metadata": {},
     "output_type": "execute_result"
    }
   ],
   "source": [
    "# General Search through elasticsearch & SciGraph\n",
    "list(ilx_cli.query(term='brain'))"
   ]
  },
  {
   "cell_type": "markdown",
   "metadata": {},
   "source": [
    "# Get entity via fragment"
   ]
  },
  {
   "cell_type": "code",
   "execution_count": 15,
   "metadata": {},
   "outputs": [
    {
     "data": {
      "text/plain": [
       "QueryResult({'iri': 'http://uri.interlex.org/base/ilx_0101431', 'curie': 'ILX:0101431', 'label': 'Brain', 'labels': (), 'definition': 'The part of the central nervous system contained within the cranium, comprising the forebrain, midbrain, hindbrain, and metencephalon. It is derived from the anterior part of the embryonic neural tube (or the encephalon). Does not include retina. (CUMBO)The rostral topographic division of the cerebrospinal axis, while the caudal division is the spinal cord. The usual criterion for distinguishing the two divisions in the adult is that the vertebrate brain lies within the skull whereas the spinal cord lies within the spinal (vertebral) column, although this is a difficult problem. (Swanson, 2014)', 'synonyms': ({'id': '1781408', 'tid': '1432', 'literal': 'Encephalon', 'type': '', 'time': '1598039945', 'version': '10'},), 'deprecated': None, 'predicates': {}, 'type': None, 'types': (), '_graph': None, 'source': <ontquery.plugins.services.interlex.InterLexRemote object at 0x7fa564a27dc0>})"
      ]
     },
     "execution_count": 15,
     "metadata": {},
     "output_type": "execute_result"
    }
   ],
   "source": [
    "ilx_cli.get_entity('ilx_0101431')"
   ]
  },
  {
   "cell_type": "markdown",
   "metadata": {},
   "source": [
    "# Get entity from existing id"
   ]
  },
  {
   "cell_type": "code",
   "execution_count": 7,
   "metadata": {},
   "outputs": [
    {
     "data": {
      "text/plain": [
       "\u001b[0;31mSignature:\u001b[0m\n",
       "\u001b[0milx_cli\u001b[0m\u001b[0;34m.\u001b[0m\u001b[0madd_entity\u001b[0m\u001b[0;34m(\u001b[0m\u001b[0;34m\u001b[0m\n",
       "\u001b[0;34m\u001b[0m    \u001b[0mlabel\u001b[0m\u001b[0;34m:\u001b[0m \u001b[0mstr\u001b[0m\u001b[0;34m,\u001b[0m\u001b[0;34m\u001b[0m\n",
       "\u001b[0;34m\u001b[0m    \u001b[0mtype\u001b[0m\u001b[0;34m:\u001b[0m \u001b[0mstr\u001b[0m\u001b[0;34m,\u001b[0m\u001b[0;34m\u001b[0m\n",
       "\u001b[0;34m\u001b[0m    \u001b[0msubThingOf\u001b[0m\u001b[0;34m:\u001b[0m \u001b[0mstr\u001b[0m\u001b[0;34m,\u001b[0m\u001b[0;34m\u001b[0m\n",
       "\u001b[0;34m\u001b[0m    \u001b[0mdefinition\u001b[0m\u001b[0;34m:\u001b[0m \u001b[0mstr\u001b[0m \u001b[0;34m=\u001b[0m \u001b[0;32mNone\u001b[0m\u001b[0;34m,\u001b[0m\u001b[0;34m\u001b[0m\n",
       "\u001b[0;34m\u001b[0m    \u001b[0mcomment\u001b[0m\u001b[0;34m:\u001b[0m \u001b[0mstr\u001b[0m \u001b[0;34m=\u001b[0m \u001b[0;32mNone\u001b[0m\u001b[0;34m,\u001b[0m\u001b[0;34m\u001b[0m\n",
       "\u001b[0;34m\u001b[0m    \u001b[0mcid\u001b[0m\u001b[0;34m:\u001b[0m \u001b[0mUnion\u001b[0m\u001b[0;34m[\u001b[0m\u001b[0mstr\u001b[0m\u001b[0;34m,\u001b[0m \u001b[0mint\u001b[0m\u001b[0;34m]\u001b[0m \u001b[0;34m=\u001b[0m \u001b[0;32mNone\u001b[0m\u001b[0;34m,\u001b[0m\u001b[0;34m\u001b[0m\n",
       "\u001b[0;34m\u001b[0m    \u001b[0msynonyms\u001b[0m\u001b[0;34m:\u001b[0m \u001b[0mUnion\u001b[0m\u001b[0;34m[\u001b[0m\u001b[0mList\u001b[0m\u001b[0;34m[\u001b[0m\u001b[0mdict\u001b[0m\u001b[0;34m]\u001b[0m\u001b[0;34m,\u001b[0m \u001b[0mList\u001b[0m\u001b[0;34m[\u001b[0m\u001b[0mstr\u001b[0m\u001b[0;34m]\u001b[0m\u001b[0;34m]\u001b[0m \u001b[0;34m=\u001b[0m \u001b[0;32mNone\u001b[0m\u001b[0;34m,\u001b[0m\u001b[0;34m\u001b[0m\n",
       "\u001b[0;34m\u001b[0m    \u001b[0mexisting_ids\u001b[0m\u001b[0;34m:\u001b[0m \u001b[0mList\u001b[0m\u001b[0;34m[\u001b[0m\u001b[0mdict\u001b[0m\u001b[0;34m]\u001b[0m \u001b[0;34m=\u001b[0m \u001b[0;32mNone\u001b[0m\u001b[0;34m,\u001b[0m\u001b[0;34m\u001b[0m\n",
       "\u001b[0;34m\u001b[0m    \u001b[0mpredicates\u001b[0m\u001b[0;34m:\u001b[0m \u001b[0mdict\u001b[0m \u001b[0;34m=\u001b[0m \u001b[0;32mNone\u001b[0m\u001b[0;34m,\u001b[0m\u001b[0;34m\u001b[0m\n",
       "\u001b[0;34m\u001b[0m    \u001b[0;34m**\u001b[0m\u001b[0mkwargs\u001b[0m\u001b[0;34m,\u001b[0m\u001b[0;34m\u001b[0m\n",
       "\u001b[0;34m\u001b[0m\u001b[0;34m)\u001b[0m \u001b[0;34m->\u001b[0m \u001b[0montquery\u001b[0m\u001b[0;34m.\u001b[0m\u001b[0mutils\u001b[0m\u001b[0;34m.\u001b[0m\u001b[0mQueryResult\u001b[0m\u001b[0;34m\u001b[0m\u001b[0;34m\u001b[0m\u001b[0m\n",
       "\u001b[0;31mDocstring:\u001b[0m\n",
       "Add InterLex entity\n",
       "\n",
       ":param label: Preferred name of entity.\n",
       ":param type: Any of the following: term, TermSet, cde, pde, fde, relationship, annotation.\n",
       ":param cid: Community ID\n",
       ":param definition: Entities official definition.\n",
       ":param comment: A foot note regarding either the interpretation of the data or the data itself\n",
       ":param subThingOf: The ilx_id of the parent of this entity. Example: Organ is a superclass to Brain\n",
       ":param synonyms: Alternate names of the label.\n",
       ":param existing_ids: Alternate/source ontological iri/curies. Can only be one preferred ID.\n",
       ":param predicates: Annotations and/or Relationships to be added.\n",
       ":return: requests.Response of insert or query from existing.\n",
       "\n",
       ">>> self.add_entity(                 label='Brain',                 type='term',  # options: term, pde, fde, cde, annotation, or relationship                 definition='Official definition for entity.',                 comment='Additional casual notes for the next person.',                 superclass='ilx_1234567',                 synonyms=[{                     'literal': 'Brains',  # label of synonym                     'type': 'obo:hasExactSynonym',  # Often predicate defined in ref ontology.                 }],                 existing_ids=[{                     'iri': 'http://purl.obolibrary.org/obo/UBERON_0000955',                     'curie': 'UBERON:0000955',  # Obeys prefix:id structure.                     'preferred': '1',  # Can be 0 or 1 with a type of either str or int.                 }],                 predicates={                     # Annotation                     'http://uri.interlex.org/base/ilx_0101432': 'sample_annotation_value',                     # Relationship                     'http://uri.interlex.org/base/ilx_0101435': 'http://uri.interlex.org/base/ilx_0101434',                 },             )\n",
       "\u001b[0;31mFile:\u001b[0m      ~/Dropbox/git/ontquery/ontquery/plugins/services/interlex.py\n",
       "\u001b[0;31mType:\u001b[0m      method\n"
      ]
     },
     "execution_count": 8,
     "metadata": {},
     "output_type": "execute_result"
    }
   ],
   "source": [
    "ilx_cli.add_entity?"
   ]
  },
  {
   "cell_type": "code",
   "execution_count": 12,
   "metadata": {},
   "outputs": [
    {
     "name": "stderr",
     "output_type": "stream",
     "text": [
      "[2020-08-12 13:37:20,684] -  WARNING -       ontquery - interlex_client.py:793  - Annotation: [test_DY0F652BGCZU -> test_K8KAGD9D0QOQ -> sample_value], already exists.\n",
      "[2020-08-12 13:37:22,470] -  WARNING -       ontquery - interlex_client.py:904  - relationship: [test_DY0F652BGCZU -> test_67M6YEYODK3V -> troy_test_term], already exists.\n"
     ]
    },
    {
     "name": "stdout",
     "output_type": "stream",
     "text": [
      "QueryResult({'iri': 'http://uri.interlex.org/base/tmp_0741934', 'curie': 'TMP:0741934', 'label': 'test_DY0F652BGCZU', 'labels': (), 'definition': 'Part of the central nervous system', 'synonyms': ({'id': '1780663', 'tid': '664039', 'literal': 'Encephalon', 'type': '', 'time': '1597264636', 'version': '1'}, {'id': '1780664', 'tid': '664039', 'literal': 'Cerebro', 'type': '', 'time': '1597264636', 'version': '1'}), 'deprecated': None, 'predicates': {'comment': ''}, 'type': None, 'types': (), '_graph': None, 'source': <ontquery.plugins.services.interlex.InterLexRemote object at 0x7ff6b0044b80>})\n"
     ]
    }
   ],
   "source": [
    "import string\n",
    "import random\n",
    "def id_generator(size=6, chars=string.ascii_uppercase + string.digits):\n",
    "    return ''.join(random.choice(chars) for _ in range(size))\n",
    "random_label = 'test_' + id_generator(size=12)\n",
    "\n",
    "entity = {\n",
    "    'label': random_label,\n",
    "    'type': 'term',  # broken at the moment NEEDS PDE HARDCODED\n",
    "    'definition': 'Part of the central nervous system',\n",
    "    # 'comment': 'Cannot live without it',\n",
    "    'subThingOf': 'http://uri.interlex.org/base/tmp_0738397',  # ILX ID for Organ\n",
    "    'synonyms': ['Encephalon', 'Cerebro'],\n",
    "    'predicates': {\n",
    "        'http://uri.interlex.org/base/tmp_0738407': 'sample_value',  # spont firing beta ID | annotation\n",
    "        'http://uri.interlex.org/base/tmp_0738408': 'http://uri.interlex.org/base/tmp_0738406',  # relationship\n",
    "    }\n",
    "}\n",
    "result = ilx_cli.add_entity(**entity)\n",
    "print(result)"
   ]
  },
  {
   "cell_type": "markdown",
   "metadata": {},
   "source": [
    "# Update"
   ]
  },
  {
   "cell_type": "code",
   "execution_count": 1,
   "metadata": {},
   "outputs": [
    {
     "name": "stdout",
     "output_type": "stream",
     "text": [
      "Object `ilx_cli.update_entity` not found.\n"
     ]
    }
   ],
   "source": [
    "ilx_cli.update_entity?"
   ]
  },
  {
   "cell_type": "code",
   "execution_count": 13,
   "metadata": {},
   "outputs": [
    {
     "name": "stderr",
     "output_type": "stream",
     "text": [
      "[2020-08-03 22:51:27,167] -  WARNING -       ontquery - interlex_client.py:790  - Annotation: [label_update -> test_K8KAGD9D0QOQ -> sample_value2], already exists.\n",
      "[2020-08-03 22:51:28,644] -  WARNING -       ontquery - interlex_client.py:901  - relationship: [label_update -> test_67M6YEYODK3V -> test_5YMGMUGWAKY5], already exists.\n"
     ]
    },
    {
     "name": "stdout",
     "output_type": "stream",
     "text": [
      "QueryResult({'iri': 'http://uri.interlex.org/base/tmp_0741837', 'curie': 'TMP:0741837', 'label': 'label_update', 'labels': (), 'definition': 'Updated definition!', 'synonyms': ('Encephalon', 'Cerebro', 'Cerebro_update'), 'deprecated': None, 'predicates': {'comment': 'Cannot live without it UPDATE'}, 'type': None, 'types': (), '_graph': None, '_blob': None, 'source': <ontquery.plugins.services.interlex.InterLexRemote object at 0x7fd3540f9a90>})\n"
     ]
    }
   ],
   "source": [
    "entity = {\n",
    "    'ilx_id': result['curie'],\n",
    "    'label': 'label_update',\n",
    "    # 'type': 'term', # broken at the moment NEEDS PDE HARDCODED\n",
    "    'definition': 'Updated definition!',\n",
    "    # 'comment': 'Cannot live without it UPDATE',\n",
    "    'subThingOf': 'http://uri.interlex.org/base/tmp_0738406',  # ILX ID for Organ\n",
    "    'add_synonyms': ['Encephalon', 'Cerebro_update'],\n",
    "    'predicates_to_add': {\n",
    "        # DUPCLICATE CHECK\n",
    "        'http://uri.interlex.org/base/tmp_0738407': 'sample_value',  # spont firing beta ID | annotation\n",
    "        'http://uri.interlex.org/base/tmp_0738407': 'sample_value2',  # spont firing beta ID | annotation\n",
    "        'http://uri.interlex.org/base/tmp_0738408': 'http://uri.interlex.org/base/tmp_0738409'  # relationship\n",
    "    },\n",
    "    'predicates_to_delete': {\n",
    "        # DELETE ORIGINAL\n",
    "        'http://uri.interlex.org/base/tmp_0738407': 'sample_value',  # spont firing beta ID | annotation\n",
    "        'http://uri.interlex.org/base/tmp_0738408': 'http://uri.interlex.org/base/tmp_0738409',  # relationship\n",
    "    }\n",
    "}\n",
    "result = ilx_cli.update_entity(**entity)\n",
    "print(result)"
   ]
  },
  {
   "cell_type": "code",
   "execution_count": 7,
   "metadata": {},
   "outputs": [
    {
     "data": {
      "text/plain": [
       "\u001b[0;31mSignature:\u001b[0m\n",
       "\u001b[0milx_cli\u001b[0m\u001b[0;34m.\u001b[0m\u001b[0milx_cli\u001b[0m\u001b[0;34m.\u001b[0m\u001b[0mpartial_update\u001b[0m\u001b[0;34m(\u001b[0m\u001b[0;34m\u001b[0m\n",
       "\u001b[0;34m\u001b[0m    \u001b[0mcurie\u001b[0m\u001b[0;34m:\u001b[0m \u001b[0mstr\u001b[0m \u001b[0;34m=\u001b[0m \u001b[0;32mNone\u001b[0m\u001b[0;34m,\u001b[0m\u001b[0;34m\u001b[0m\n",
       "\u001b[0;34m\u001b[0m    \u001b[0mdefinition\u001b[0m\u001b[0;34m:\u001b[0m \u001b[0mstr\u001b[0m \u001b[0;34m=\u001b[0m \u001b[0;32mNone\u001b[0m\u001b[0;34m,\u001b[0m\u001b[0;34m\u001b[0m\n",
       "\u001b[0;34m\u001b[0m    \u001b[0mcomment\u001b[0m\u001b[0;34m:\u001b[0m \u001b[0mstr\u001b[0m \u001b[0;34m=\u001b[0m \u001b[0;32mNone\u001b[0m\u001b[0;34m,\u001b[0m\u001b[0;34m\u001b[0m\n",
       "\u001b[0;34m\u001b[0m    \u001b[0msuperclass\u001b[0m\u001b[0;34m:\u001b[0m \u001b[0mstr\u001b[0m \u001b[0;34m=\u001b[0m \u001b[0;32mNone\u001b[0m\u001b[0;34m,\u001b[0m\u001b[0;34m\u001b[0m\n",
       "\u001b[0;34m\u001b[0m    \u001b[0msynonyms\u001b[0m\u001b[0;34m:\u001b[0m \u001b[0mList\u001b[0m\u001b[0;34m[\u001b[0m\u001b[0mdict\u001b[0m\u001b[0;34m]\u001b[0m \u001b[0;34m=\u001b[0m \u001b[0;32mNone\u001b[0m\u001b[0;34m,\u001b[0m\u001b[0;34m\u001b[0m\n",
       "\u001b[0;34m\u001b[0m    \u001b[0mexisting_ids\u001b[0m\u001b[0;34m:\u001b[0m \u001b[0mList\u001b[0m\u001b[0;34m[\u001b[0m\u001b[0mdict\u001b[0m\u001b[0;34m]\u001b[0m \u001b[0;34m=\u001b[0m \u001b[0;32mNone\u001b[0m\u001b[0;34m,\u001b[0m\u001b[0;34m\u001b[0m\n",
       "\u001b[0;34m\u001b[0m\u001b[0;34m)\u001b[0m \u001b[0;34m->\u001b[0m \u001b[0mdict\u001b[0m\u001b[0;34m\u001b[0m\u001b[0;34m\u001b[0m\u001b[0m\n",
       "\u001b[0;31mDocstring:\u001b[0m\n",
       "Update entity field only if the reference field is empty.\n",
       "\n",
       ":param curie: Curie of entity within existing ids.\n",
       ":param definition: Entities official definition.\n",
       ":param comment: A foot note regarding either the interpretation of the data or the data itself\n",
       ":param superclass: The ilx_id of the parent of this entity. Example: Organ is a superclass to Brain\n",
       ":param synonyms: Alternate names of the label.\n",
       ":param existing_ids: Alternate/source ontological iri/curies. Can only be one preferred ID.\n",
       "\u001b[0;31mFile:\u001b[0m      ~/Dropbox/git/ontquery/ontquery/plugins/services/interlex_client.py\n",
       "\u001b[0;31mType:\u001b[0m      method\n"
      ]
     },
     "metadata": {},
     "output_type": "display_data"
    }
   ],
   "source": [
    "ilx_cli.ilx_cli.partial_update?"
   ]
  },
  {
   "cell_type": "markdown",
   "metadata": {},
   "source": [
    "# Partial Update; the passive update\n",
    "### Will only update the field if it is null/none server side"
   ]
  },
  {
   "cell_type": "code",
   "execution_count": 16,
   "metadata": {},
   "outputs": [
    {
     "data": {
      "text/plain": [
       "'updated definition!'"
      ]
     },
     "execution_count": 16,
     "metadata": {},
     "output_type": "execute_result"
    }
   ],
   "source": [
    "partial_update = ilx_cli.ilx_cli.partial_update(curie=result['curie'], comment='updated definition!')\n",
    "partial_update['comment']"
   ]
  },
  {
   "cell_type": "code",
   "execution_count": 17,
   "metadata": {},
   "outputs": [
    {
     "data": {
      "text/plain": [
       "'updated definition!'"
      ]
     },
     "execution_count": 17,
     "metadata": {},
     "output_type": "execute_result"
    }
   ],
   "source": [
    "partial_update = ilx_cli.ilx_cli.partial_update(curie=result['curie'], comment='updated definition please?!')\n",
    "partial_update['comment']"
   ]
  },
  {
   "cell_type": "markdown",
   "metadata": {},
   "source": [
    "### As you can see the comment wasn't updated because it already existed"
   ]
  }
 ],
 "metadata": {
  "kernelspec": {
   "display_name": "Python 3",
   "language": "python",
   "name": "python3"
  },
  "language_info": {
   "codemirror_mode": {
    "name": "ipython",
    "version": 3
   },
   "file_extension": ".py",
   "mimetype": "text/x-python",
   "name": "python",
   "nbconvert_exporter": "python",
   "pygments_lexer": "ipython3",
   "version": "3.8.5"
  }
 },
 "nbformat": 4,
 "nbformat_minor": 4
}